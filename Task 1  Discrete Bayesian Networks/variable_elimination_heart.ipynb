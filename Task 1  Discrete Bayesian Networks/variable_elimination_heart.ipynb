{
  "cells": [
    {
      "cell_type": "code",
      "execution_count": null,
      "id": "3e7c29fe",
      "metadata": {
        "collapsed": true,
        "id": "3e7c29fe"
      },
      "outputs": [],
      "source": [
        "!pip install pgmpy\n",
        "!pip install bnlearn\n"
      ]
    },
    {
      "cell_type": "code",
      "execution_count": null,
      "id": "xFpSWfawvPMc",
      "metadata": {
        "id": "xFpSWfawvPMc"
      },
      "outputs": [],
      "source": []
    },
    {
      "cell_type": "code",
      "execution_count": null,
      "id": "PQsho8Ht3upT",
      "metadata": {
        "id": "PQsho8Ht3upT"
      },
      "outputs": [],
      "source": [
        "import numpy as np\n",
        "import pandas as pd\n",
        "from pgmpy.models import BayesianNetwork\n",
        "from pgmpy.inference import VariableElimination"
      ]
    },
    {
      "cell_type": "code",
      "execution_count": null,
      "id": "PpnTS0qe3Xmk",
      "metadata": {
        "id": "PpnTS0qe3Xmk"
      },
      "outputs": [],
      "source": [
        "title = \"age,sex,cp,trestbps,chol,fbs,restecg,thalach,exang,oldpeak,slope,ca,thal,target\"\n",
        "\n",
        "title = title.split(\",\")\n",
        "\n",
        "data_train = pd.read_csv(r\"/content/drive/MyDrive/AAI docs/heart-data-discretized-train.csv\", names=title)\n",
        "#data_test = pd.read_csv(r\"/content/drive/MyDrive/AAI docs/stroke-data-discretized-test.csv\", names=title)"
      ]
    },
    {
      "cell_type": "code",
      "execution_count": null,
      "id": "5vc1XC8f31mT",
      "metadata": {
        "id": "5vc1XC8f31mT"
      },
      "outputs": [],
      "source": [
        "model = BayesianNetwork([('target','thalach'),('target','trestbps'), ('target','cp'),('target','thal'),('target','exang'),('target','ca'),('target','slope'),('target','restecg'),('target','chol'),('target','age'),\n",
        "                       ('fbs','ca'),('fbs','exang'),('fbs','age'),\n",
        "                       ('age','trestbps'),('age','exang'),\n",
        "                       ('chol','trestbps'),('chol','slope'),('chol','sex'),('chol','restecg'),\n",
        "                       ('restecg','age'),('restecg','slope'),('restecg','sex'),\n",
        "                       ('sex','exang'),\n",
        "                       ('slope','age'),('slope','cp'),('slope','oldpeak'),('slope','sex'),\n",
        "                       ('thal','fbs'),('thal','age'),\n",
        "                       ('oldpeak','ca'),('oldpeak','trestbps'),\n",
        "                       ('cp','trestbps'),\n",
        "                       ('thalach','slope'), ('thalach','ca'), ('thalach','thal'), ('thalach','exang'),('thalach','oldpeak'),('thalach','trestbps')])\n",
        "\n",
        "\n",
        "\n"
      ]
    },
    {
      "cell_type": "code",
      "execution_count": null,
      "id": "cpErI29j3g3t",
      "metadata": {
        "id": "cpErI29j3g3t"
      },
      "outputs": [],
      "source": [
        "model.fit(data_train)\n"
      ]
    },
    {
      "cell_type": "code",
      "execution_count": null,
      "id": "aNzbjBe8dF25",
      "metadata": {
        "colab": {
          "base_uri": "https://localhost:8080/",
          "height": 206
        },
        "id": "aNzbjBe8dF25",
        "outputId": "f365b260-34cb-4846-a51f-3f898c0e5ed3"
      },
      "outputs": [
        {
          "data": {
            "text/html": [
              "\n",
              "  <div id=\"df-f9ca9502-6600-4aa3-882d-e04e70d71261\">\n",
              "    <div class=\"colab-df-container\">\n",
              "      <div>\n",
              "<style scoped>\n",
              "    .dataframe tbody tr th:only-of-type {\n",
              "        vertical-align: middle;\n",
              "    }\n",
              "\n",
              "    .dataframe tbody tr th {\n",
              "        vertical-align: top;\n",
              "    }\n",
              "\n",
              "    .dataframe thead th {\n",
              "        text-align: right;\n",
              "    }\n",
              "</style>\n",
              "<table border=\"1\" class=\"dataframe\">\n",
              "  <thead>\n",
              "    <tr style=\"text-align: right;\">\n",
              "      <th></th>\n",
              "      <th>age</th>\n",
              "      <th>sex</th>\n",
              "      <th>cp</th>\n",
              "      <th>trestbps</th>\n",
              "      <th>chol</th>\n",
              "      <th>fbs</th>\n",
              "      <th>restecg</th>\n",
              "      <th>thalach</th>\n",
              "      <th>exang</th>\n",
              "      <th>oldpeak</th>\n",
              "      <th>slope</th>\n",
              "      <th>ca</th>\n",
              "      <th>thal</th>\n",
              "      <th>target</th>\n",
              "    </tr>\n",
              "  </thead>\n",
              "  <tbody>\n",
              "    <tr>\n",
              "      <th>0</th>\n",
              "      <td>age</td>\n",
              "      <td>sex</td>\n",
              "      <td>cp</td>\n",
              "      <td>trestbps</td>\n",
              "      <td>chol</td>\n",
              "      <td>fbs</td>\n",
              "      <td>restecg</td>\n",
              "      <td>thalach</td>\n",
              "      <td>exang</td>\n",
              "      <td>oldpeak</td>\n",
              "      <td>slope</td>\n",
              "      <td>ca</td>\n",
              "      <td>thal</td>\n",
              "      <td>target</td>\n",
              "    </tr>\n",
              "    <tr>\n",
              "      <th>1</th>\n",
              "      <td>2</td>\n",
              "      <td>1</td>\n",
              "      <td>0</td>\n",
              "      <td>1</td>\n",
              "      <td>0</td>\n",
              "      <td>0</td>\n",
              "      <td>1</td>\n",
              "      <td>3</td>\n",
              "      <td>0</td>\n",
              "      <td>0</td>\n",
              "      <td>2</td>\n",
              "      <td>2</td>\n",
              "      <td>3</td>\n",
              "      <td>0</td>\n",
              "    </tr>\n",
              "    <tr>\n",
              "      <th>2</th>\n",
              "      <td>2</td>\n",
              "      <td>1</td>\n",
              "      <td>0</td>\n",
              "      <td>2</td>\n",
              "      <td>0</td>\n",
              "      <td>1</td>\n",
              "      <td>0</td>\n",
              "      <td>3</td>\n",
              "      <td>1</td>\n",
              "      <td>2</td>\n",
              "      <td>0</td>\n",
              "      <td>0</td>\n",
              "      <td>3</td>\n",
              "      <td>0</td>\n",
              "    </tr>\n",
              "    <tr>\n",
              "      <th>3</th>\n",
              "      <td>4</td>\n",
              "      <td>1</td>\n",
              "      <td>0</td>\n",
              "      <td>2</td>\n",
              "      <td>0</td>\n",
              "      <td>0</td>\n",
              "      <td>1</td>\n",
              "      <td>2</td>\n",
              "      <td>1</td>\n",
              "      <td>2</td>\n",
              "      <td>0</td>\n",
              "      <td>0</td>\n",
              "      <td>3</td>\n",
              "      <td>0</td>\n",
              "    </tr>\n",
              "    <tr>\n",
              "      <th>4</th>\n",
              "      <td>3</td>\n",
              "      <td>1</td>\n",
              "      <td>0</td>\n",
              "      <td>2</td>\n",
              "      <td>0</td>\n",
              "      <td>0</td>\n",
              "      <td>1</td>\n",
              "      <td>3</td>\n",
              "      <td>0</td>\n",
              "      <td>0</td>\n",
              "      <td>2</td>\n",
              "      <td>1</td>\n",
              "      <td>3</td>\n",
              "      <td>0</td>\n",
              "    </tr>\n",
              "  </tbody>\n",
              "</table>\n",
              "</div>\n",
              "      <button class=\"colab-df-convert\" onclick=\"convertToInteractive('df-f9ca9502-6600-4aa3-882d-e04e70d71261')\"\n",
              "              title=\"Convert this dataframe to an interactive table.\"\n",
              "              style=\"display:none;\">\n",
              "        \n",
              "  <svg xmlns=\"http://www.w3.org/2000/svg\" height=\"24px\"viewBox=\"0 0 24 24\"\n",
              "       width=\"24px\">\n",
              "    <path d=\"M0 0h24v24H0V0z\" fill=\"none\"/>\n",
              "    <path d=\"M18.56 5.44l.94 2.06.94-2.06 2.06-.94-2.06-.94-.94-2.06-.94 2.06-2.06.94zm-11 1L8.5 8.5l.94-2.06 2.06-.94-2.06-.94L8.5 2.5l-.94 2.06-2.06.94zm10 10l.94 2.06.94-2.06 2.06-.94-2.06-.94-.94-2.06-.94 2.06-2.06.94z\"/><path d=\"M17.41 7.96l-1.37-1.37c-.4-.4-.92-.59-1.43-.59-.52 0-1.04.2-1.43.59L10.3 9.45l-7.72 7.72c-.78.78-.78 2.05 0 2.83L4 21.41c.39.39.9.59 1.41.59.51 0 1.02-.2 1.41-.59l7.78-7.78 2.81-2.81c.8-.78.8-2.07 0-2.86zM5.41 20L4 18.59l7.72-7.72 1.47 1.35L5.41 20z\"/>\n",
              "  </svg>\n",
              "      </button>\n",
              "      \n",
              "  <style>\n",
              "    .colab-df-container {\n",
              "      display:flex;\n",
              "      flex-wrap:wrap;\n",
              "      gap: 12px;\n",
              "    }\n",
              "\n",
              "    .colab-df-convert {\n",
              "      background-color: #E8F0FE;\n",
              "      border: none;\n",
              "      border-radius: 50%;\n",
              "      cursor: pointer;\n",
              "      display: none;\n",
              "      fill: #1967D2;\n",
              "      height: 32px;\n",
              "      padding: 0 0 0 0;\n",
              "      width: 32px;\n",
              "    }\n",
              "\n",
              "    .colab-df-convert:hover {\n",
              "      background-color: #E2EBFA;\n",
              "      box-shadow: 0px 1px 2px rgba(60, 64, 67, 0.3), 0px 1px 3px 1px rgba(60, 64, 67, 0.15);\n",
              "      fill: #174EA6;\n",
              "    }\n",
              "\n",
              "    [theme=dark] .colab-df-convert {\n",
              "      background-color: #3B4455;\n",
              "      fill: #D2E3FC;\n",
              "    }\n",
              "\n",
              "    [theme=dark] .colab-df-convert:hover {\n",
              "      background-color: #434B5C;\n",
              "      box-shadow: 0px 1px 3px 1px rgba(0, 0, 0, 0.15);\n",
              "      filter: drop-shadow(0px 1px 2px rgba(0, 0, 0, 0.3));\n",
              "      fill: #FFFFFF;\n",
              "    }\n",
              "  </style>\n",
              "\n",
              "      <script>\n",
              "        const buttonEl =\n",
              "          document.querySelector('#df-f9ca9502-6600-4aa3-882d-e04e70d71261 button.colab-df-convert');\n",
              "        buttonEl.style.display =\n",
              "          google.colab.kernel.accessAllowed ? 'block' : 'none';\n",
              "\n",
              "        async function convertToInteractive(key) {\n",
              "          const element = document.querySelector('#df-f9ca9502-6600-4aa3-882d-e04e70d71261');\n",
              "          const dataTable =\n",
              "            await google.colab.kernel.invokeFunction('convertToInteractive',\n",
              "                                                     [key], {});\n",
              "          if (!dataTable) return;\n",
              "\n",
              "          const docLinkHtml = 'Like what you see? Visit the ' +\n",
              "            '<a target=\"_blank\" href=https://colab.research.google.com/notebooks/data_table.ipynb>data table notebook</a>'\n",
              "            + ' to learn more about interactive tables.';\n",
              "          element.innerHTML = '';\n",
              "          dataTable['output_type'] = 'display_data';\n",
              "          await google.colab.output.renderOutput(dataTable, element);\n",
              "          const docLink = document.createElement('div');\n",
              "          docLink.innerHTML = docLinkHtml;\n",
              "          element.appendChild(docLink);\n",
              "        }\n",
              "      </script>\n",
              "    </div>\n",
              "  </div>\n",
              "  "
            ],
            "text/plain": [
              "   age  sex  cp  trestbps  chol  fbs  restecg  thalach  exang  oldpeak  slope  \\\n",
              "0  age  sex  cp  trestbps  chol  fbs  restecg  thalach  exang  oldpeak  slope   \n",
              "1    2    1   0         1     0    0        1        3      0        0      2   \n",
              "2    2    1   0         2     0    1        0        3      1        2      0   \n",
              "3    4    1   0         2     0    0        1        2      1        2      0   \n",
              "4    3    1   0         2     0    0        1        3      0        0      2   \n",
              "\n",
              "   ca  thal  target  \n",
              "0  ca  thal  target  \n",
              "1   2     3       0  \n",
              "2   0     3       0  \n",
              "3   0     3       0  \n",
              "4   1     3       0  "
            ]
          },
          "execution_count": 19,
          "metadata": {},
          "output_type": "execute_result"
        }
      ],
      "source": [
        "data_train.head()"
      ]
    },
    {
      "cell_type": "code",
      "execution_count": null,
      "id": "ZH2-o3z44crV",
      "metadata": {
        "id": "ZH2-o3z44crV"
      },
      "outputs": [],
      "source": [
        "inference = VariableElimination(model)"
      ]
    },
    {
      "cell_type": "code",
      "execution_count": null,
      "id": "Tf1a0V534e5X",
      "metadata": {
        "id": "Tf1a0V534e5X"
      },
      "outputs": [],
      "source": [
        "x = inference.query(variables = ['target'], evidence = {'sex': '0', 'cp': '3'})"
      ]
    },
    {
      "cell_type": "code",
      "execution_count": null,
      "id": "aE4i-oNQcKsG",
      "metadata": {
        "id": "aE4i-oNQcKsG"
      },
      "outputs": [],
      "source": [
        "print(x)"
      ]
    }
  ],
  "metadata": {
    "accelerator": "GPU",
    "colab": {
      "provenance": []
    },
    "gpuClass": "standard",
    "kernelspec": {
      "display_name": "Python 3.10.8 64-bit (microsoft store)",
      "language": "python",
      "name": "python3"
    },
    "language_info": {
      "codemirror_mode": {
        "name": "ipython",
        "version": 3
      },
      "file_extension": ".py",
      "mimetype": "text/x-python",
      "name": "python",
      "nbconvert_exporter": "python",
      "pygments_lexer": "ipython3",
      "version": "3.10.9"
    },
    "vscode": {
      "interpreter": {
        "hash": "65f0a5d9b8dd90f19bea668c583c8ac5e33a80454a653f4ad2cedbb28e04ae52"
      }
    }
  },
  "nbformat": 4,
  "nbformat_minor": 5
}
