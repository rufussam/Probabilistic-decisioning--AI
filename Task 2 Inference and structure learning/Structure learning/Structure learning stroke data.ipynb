{
  "cells": [
    {
      "cell_type": "code",
      "execution_count": null,
      "id": "3e7c29fe",
      "metadata": {
        "colab": {
          "base_uri": "https://localhost:8080/",
          "height": 1000
        },
        "collapsed": true,
        "id": "3e7c29fe",
        "outputId": "7b785ef7-63a6-4770-a617-f0eda76d3f58"
      },
      "outputs": [
        {
          "name": "stdout",
          "output_type": "stream",
          "text": [
            "Looking in indexes: https://pypi.org/simple, https://us-python.pkg.dev/colab-wheels/public/simple/\n",
            "Collecting pgmpy\n",
            "  Downloading pgmpy-0.1.20-py3-none-any.whl (1.9 MB)\n",
            "\u001b[K     |████████████████████████████████| 1.9 MB 7.3 MB/s \n",
            "\u001b[?25hRequirement already satisfied: opt-einsum in /usr/local/lib/python3.7/dist-packages (from pgmpy) (3.3.0)\n",
            "Requirement already satisfied: torch in /usr/local/lib/python3.7/dist-packages (from pgmpy) (1.12.1+cu113)\n",
            "Requirement already satisfied: numpy in /usr/local/lib/python3.7/dist-packages (from pgmpy) (1.21.6)\n",
            "Requirement already satisfied: pyparsing in /usr/local/lib/python3.7/dist-packages (from pgmpy) (3.0.9)\n",
            "Requirement already satisfied: joblib in /usr/local/lib/python3.7/dist-packages (from pgmpy) (1.2.0)\n",
            "Requirement already satisfied: networkx in /usr/local/lib/python3.7/dist-packages (from pgmpy) (2.6.3)\n",
            "Requirement already satisfied: pandas in /usr/local/lib/python3.7/dist-packages (from pgmpy) (1.3.5)\n",
            "Requirement already satisfied: statsmodels in /usr/local/lib/python3.7/dist-packages (from pgmpy) (0.12.2)\n",
            "Requirement already satisfied: scipy in /usr/local/lib/python3.7/dist-packages (from pgmpy) (1.7.3)\n",
            "Requirement already satisfied: tqdm in /usr/local/lib/python3.7/dist-packages (from pgmpy) (4.64.1)\n",
            "Requirement already satisfied: scikit-learn in /usr/local/lib/python3.7/dist-packages (from pgmpy) (1.0.2)\n",
            "Requirement already satisfied: pytz>=2017.3 in /usr/local/lib/python3.7/dist-packages (from pandas->pgmpy) (2022.6)\n",
            "Requirement already satisfied: python-dateutil>=2.7.3 in /usr/local/lib/python3.7/dist-packages (from pandas->pgmpy) (2.8.2)\n",
            "Requirement already satisfied: six>=1.5 in /usr/local/lib/python3.7/dist-packages (from python-dateutil>=2.7.3->pandas->pgmpy) (1.15.0)\n",
            "Requirement already satisfied: threadpoolctl>=2.0.0 in /usr/local/lib/python3.7/dist-packages (from scikit-learn->pgmpy) (3.1.0)\n",
            "Requirement already satisfied: patsy>=0.5 in /usr/local/lib/python3.7/dist-packages (from statsmodels->pgmpy) (0.5.3)\n",
            "Requirement already satisfied: typing-extensions in /usr/local/lib/python3.7/dist-packages (from torch->pgmpy) (4.1.1)\n",
            "Installing collected packages: pgmpy\n",
            "Successfully installed pgmpy-0.1.20\n",
            "Looking in indexes: https://pypi.org/simple, https://us-python.pkg.dev/colab-wheels/public/simple/\n",
            "Collecting bnlearn\n",
            "  Downloading bnlearn-0.7.8-py3-none-any.whl (49 kB)\n",
            "\u001b[K     |████████████████████████████████| 49 kB 3.6 MB/s \n",
            "\u001b[?25hCollecting sklearn\n",
            "  Downloading sklearn-0.0.post1.tar.gz (3.6 kB)\n",
            "Collecting df2onehot\n",
            "  Downloading df2onehot-1.0.1-py3-none-any.whl (216 kB)\n",
            "\u001b[K     |████████████████████████████████| 216 kB 14.7 MB/s \n",
            "\u001b[?25hRequirement already satisfied: statsmodels in /usr/local/lib/python3.7/dist-packages (from bnlearn) (0.12.2)\n",
            "Requirement already satisfied: fsspec in /usr/local/lib/python3.7/dist-packages (from bnlearn) (2022.11.0)\n",
            "Requirement already satisfied: tabulate in /usr/local/lib/python3.7/dist-packages (from bnlearn) (0.8.10)\n",
            "Collecting funcsigs\n",
            "  Downloading funcsigs-1.0.2-py2.py3-none-any.whl (17 kB)\n",
            "Requirement already satisfied: pgmpy>=0.1.13 in /usr/local/lib/python3.7/dist-packages (from bnlearn) (0.1.20)\n",
            "Requirement already satisfied: numpy in /usr/local/lib/python3.7/dist-packages (from bnlearn) (1.21.6)\n",
            "Collecting pypickle\n",
            "  Downloading pypickle-1.1.0-py3-none-any.whl (5.1 kB)\n",
            "Requirement already satisfied: packaging in /usr/local/lib/python3.7/dist-packages (from bnlearn) (21.3)\n",
            "Collecting bnlearn\n",
            "  Downloading bnlearn-0.7.7-py3-none-any.whl (48 kB)\n",
            "\u001b[K     |████████████████████████████████| 48 kB 5.0 MB/s \n",
            "\u001b[?25h  Downloading bnlearn-0.7.6-py3-none-any.whl (48 kB)\n",
            "\u001b[K     |████████████████████████████████| 48 kB 4.3 MB/s \n",
            "\u001b[?25h  Downloading bnlearn-0.7.5-py3-none-any.whl (47 kB)\n",
            "\u001b[K     |████████████████████████████████| 47 kB 5.0 MB/s \n",
            "\u001b[?25h  Downloading bnlearn-0.7.4-py3-none-any.whl (47 kB)\n",
            "\u001b[K     |████████████████████████████████| 47 kB 4.9 MB/s \n",
            "\u001b[?25h  Downloading bnlearn-0.7.3-py3-none-any.whl (47 kB)\n",
            "\u001b[K     |████████████████████████████████| 47 kB 4.7 MB/s \n",
            "\u001b[?25h  Downloading bnlearn-0.7.2-py3-none-any.whl (47 kB)\n",
            "\u001b[K     |████████████████████████████████| 47 kB 5.0 MB/s \n",
            "\u001b[?25h  Downloading bnlearn-0.7.1-py3-none-any.whl (47 kB)\n",
            "\u001b[K     |████████████████████████████████| 47 kB 4.3 MB/s \n",
            "\u001b[?25h  Downloading bnlearn-0.7.0-py3-none-any.whl (46 kB)\n",
            "\u001b[K     |████████████████████████████████| 46 kB 4.5 MB/s \n",
            "\u001b[?25h  Downloading bnlearn-0.6.3-py3-none-any.whl (46 kB)\n",
            "\u001b[K     |████████████████████████████████| 46 kB 4.1 MB/s \n",
            "\u001b[?25hCollecting ismember\n",
            "  Downloading ismember-1.0.2-py3-none-any.whl (7.5 kB)\n",
            "Requirement already satisfied: community in /usr/local/lib/python3.7/dist-packages (from bnlearn) (1.0.0b1)\n",
            "Requirement already satisfied: pandas in /usr/local/lib/python3.7/dist-packages (from bnlearn) (1.3.5)\n",
            "Requirement already satisfied: tqdm in /usr/local/lib/python3.7/dist-packages (from bnlearn) (4.64.1)\n",
            "Requirement already satisfied: ipywidgets in /usr/local/lib/python3.7/dist-packages (from bnlearn) (7.7.1)\n",
            "Collecting matplotlib>=3.3.4\n",
            "  Downloading matplotlib-3.5.3-cp37-cp37m-manylinux_2_5_x86_64.manylinux1_x86_64.whl (11.2 MB)\n",
            "\u001b[K     |████████████████████████████████| 11.2 MB 31.8 MB/s \n",
            "\u001b[?25hCollecting wget\n",
            "  Downloading wget-3.2.zip (10 kB)\n",
            "Collecting pyvis\n",
            "  Downloading pyvis-0.3.1.tar.gz (748 kB)\n",
            "\u001b[K     |████████████████████████████████| 748 kB 48.6 MB/s \n",
            "\u001b[?25hRequirement already satisfied: networkx>2.5 in /usr/local/lib/python3.7/dist-packages (from bnlearn) (2.6.3)\n",
            "Requirement already satisfied: kiwisolver>=1.0.1 in /usr/local/lib/python3.7/dist-packages (from matplotlib>=3.3.4->bnlearn) (1.4.4)\n",
            "Requirement already satisfied: python-dateutil>=2.7 in /usr/local/lib/python3.7/dist-packages (from matplotlib>=3.3.4->bnlearn) (2.8.2)\n",
            "Requirement already satisfied: cycler>=0.10 in /usr/local/lib/python3.7/dist-packages (from matplotlib>=3.3.4->bnlearn) (0.11.0)\n",
            "Requirement already satisfied: pillow>=6.2.0 in /usr/local/lib/python3.7/dist-packages (from matplotlib>=3.3.4->bnlearn) (7.1.2)\n",
            "Requirement already satisfied: pyparsing>=2.2.1 in /usr/local/lib/python3.7/dist-packages (from matplotlib>=3.3.4->bnlearn) (3.0.9)\n",
            "Collecting fonttools>=4.22.0\n",
            "  Downloading fonttools-4.38.0-py3-none-any.whl (965 kB)\n",
            "\u001b[K     |████████████████████████████████| 965 kB 55.6 MB/s \n",
            "\u001b[?25hRequirement already satisfied: typing-extensions in /usr/local/lib/python3.7/dist-packages (from kiwisolver>=1.0.1->matplotlib>=3.3.4->bnlearn) (4.1.1)\n",
            "Requirement already satisfied: opt-einsum in /usr/local/lib/python3.7/dist-packages (from pgmpy>=0.1.13->bnlearn) (3.3.0)\n",
            "Requirement already satisfied: scikit-learn in /usr/local/lib/python3.7/dist-packages (from pgmpy>=0.1.13->bnlearn) (1.0.2)\n",
            "Requirement already satisfied: scipy in /usr/local/lib/python3.7/dist-packages (from pgmpy>=0.1.13->bnlearn) (1.7.3)\n",
            "Requirement already satisfied: joblib in /usr/local/lib/python3.7/dist-packages (from pgmpy>=0.1.13->bnlearn) (1.2.0)\n",
            "Requirement already satisfied: torch in /usr/local/lib/python3.7/dist-packages (from pgmpy>=0.1.13->bnlearn) (1.12.1+cu113)\n",
            "Requirement already satisfied: six>=1.5 in /usr/local/lib/python3.7/dist-packages (from python-dateutil>=2.7->matplotlib>=3.3.4->bnlearn) (1.15.0)\n",
            "Requirement already satisfied: Flask in /usr/local/lib/python3.7/dist-packages (from community->bnlearn) (1.1.4)\n",
            "Requirement already satisfied: requests in /usr/local/lib/python3.7/dist-packages (from community->bnlearn) (2.23.0)\n",
            "Requirement already satisfied: Werkzeug<2.0,>=0.15 in /usr/local/lib/python3.7/dist-packages (from Flask->community->bnlearn) (1.0.1)\n",
            "Requirement already satisfied: itsdangerous<2.0,>=0.24 in /usr/local/lib/python3.7/dist-packages (from Flask->community->bnlearn) (1.1.0)\n",
            "Requirement already satisfied: Jinja2<3.0,>=2.10.1 in /usr/local/lib/python3.7/dist-packages (from Flask->community->bnlearn) (2.11.3)\n",
            "Requirement already satisfied: click<8.0,>=5.1 in /usr/local/lib/python3.7/dist-packages (from Flask->community->bnlearn) (7.1.2)\n",
            "Requirement already satisfied: MarkupSafe>=0.23 in /usr/local/lib/python3.7/dist-packages (from Jinja2<3.0,>=2.10.1->Flask->community->bnlearn) (2.0.1)\n",
            "Requirement already satisfied: ipython-genutils~=0.2.0 in /usr/local/lib/python3.7/dist-packages (from ipywidgets->bnlearn) (0.2.0)\n",
            "Requirement already satisfied: widgetsnbextension~=3.6.0 in /usr/local/lib/python3.7/dist-packages (from ipywidgets->bnlearn) (3.6.1)\n",
            "Requirement already satisfied: traitlets>=4.3.1 in /usr/local/lib/python3.7/dist-packages (from ipywidgets->bnlearn) (5.1.1)\n",
            "Requirement already satisfied: ipython>=4.0.0 in /usr/local/lib/python3.7/dist-packages (from ipywidgets->bnlearn) (7.9.0)\n",
            "Requirement already satisfied: ipykernel>=4.5.1 in /usr/local/lib/python3.7/dist-packages (from ipywidgets->bnlearn) (5.3.4)\n",
            "Requirement already satisfied: jupyterlab-widgets>=1.0.0 in /usr/local/lib/python3.7/dist-packages (from ipywidgets->bnlearn) (3.0.3)\n",
            "Requirement already satisfied: jupyter-client in /usr/local/lib/python3.7/dist-packages (from ipykernel>=4.5.1->ipywidgets->bnlearn) (6.1.12)\n",
            "Requirement already satisfied: tornado>=4.2 in /usr/local/lib/python3.7/dist-packages (from ipykernel>=4.5.1->ipywidgets->bnlearn) (6.0.4)\n",
            "Requirement already satisfied: pygments in /usr/local/lib/python3.7/dist-packages (from ipython>=4.0.0->ipywidgets->bnlearn) (2.6.1)\n",
            "Requirement already satisfied: backcall in /usr/local/lib/python3.7/dist-packages (from ipython>=4.0.0->ipywidgets->bnlearn) (0.2.0)\n",
            "Requirement already satisfied: pexpect in /usr/local/lib/python3.7/dist-packages (from ipython>=4.0.0->ipywidgets->bnlearn) (4.8.0)\n",
            "Requirement already satisfied: decorator in /usr/local/lib/python3.7/dist-packages (from ipython>=4.0.0->ipywidgets->bnlearn) (4.4.2)\n",
            "Requirement already satisfied: prompt-toolkit<2.1.0,>=2.0.0 in /usr/local/lib/python3.7/dist-packages (from ipython>=4.0.0->ipywidgets->bnlearn) (2.0.10)\n",
            "Requirement already satisfied: setuptools>=18.5 in /usr/local/lib/python3.7/dist-packages (from ipython>=4.0.0->ipywidgets->bnlearn) (57.4.0)\n",
            "Collecting jedi>=0.10\n",
            "  Downloading jedi-0.18.2-py2.py3-none-any.whl (1.6 MB)\n",
            "\u001b[K     |████████████████████████████████| 1.6 MB 46.8 MB/s \n",
            "\u001b[?25hRequirement already satisfied: pickleshare in /usr/local/lib/python3.7/dist-packages (from ipython>=4.0.0->ipywidgets->bnlearn) (0.7.5)\n",
            "Requirement already satisfied: parso<0.9.0,>=0.8.0 in /usr/local/lib/python3.7/dist-packages (from jedi>=0.10->ipython>=4.0.0->ipywidgets->bnlearn) (0.8.3)\n",
            "Requirement already satisfied: wcwidth in /usr/local/lib/python3.7/dist-packages (from prompt-toolkit<2.1.0,>=2.0.0->ipython>=4.0.0->ipywidgets->bnlearn) (0.2.5)\n",
            "Requirement already satisfied: notebook>=4.4.1 in /usr/local/lib/python3.7/dist-packages (from widgetsnbextension~=3.6.0->ipywidgets->bnlearn) (5.7.16)\n",
            "Requirement already satisfied: prometheus-client in /usr/local/lib/python3.7/dist-packages (from notebook>=4.4.1->widgetsnbextension~=3.6.0->ipywidgets->bnlearn) (0.15.0)\n",
            "Requirement already satisfied: Send2Trash in /usr/local/lib/python3.7/dist-packages (from notebook>=4.4.1->widgetsnbextension~=3.6.0->ipywidgets->bnlearn) (1.8.0)\n",
            "Requirement already satisfied: nbformat in /usr/local/lib/python3.7/dist-packages (from notebook>=4.4.1->widgetsnbextension~=3.6.0->ipywidgets->bnlearn) (5.7.0)\n",
            "Requirement already satisfied: terminado>=0.8.1 in /usr/local/lib/python3.7/dist-packages (from notebook>=4.4.1->widgetsnbextension~=3.6.0->ipywidgets->bnlearn) (0.13.3)\n",
            "Requirement already satisfied: jupyter-core>=4.4.0 in /usr/local/lib/python3.7/dist-packages (from notebook>=4.4.1->widgetsnbextension~=3.6.0->ipywidgets->bnlearn) (4.11.2)\n",
            "Requirement already satisfied: nbconvert<6.0 in /usr/local/lib/python3.7/dist-packages (from notebook>=4.4.1->widgetsnbextension~=3.6.0->ipywidgets->bnlearn) (5.6.1)\n",
            "Requirement already satisfied: pyzmq>=17 in /usr/local/lib/python3.7/dist-packages (from notebook>=4.4.1->widgetsnbextension~=3.6.0->ipywidgets->bnlearn) (23.2.1)\n",
            "Requirement already satisfied: testpath in /usr/local/lib/python3.7/dist-packages (from nbconvert<6.0->notebook>=4.4.1->widgetsnbextension~=3.6.0->ipywidgets->bnlearn) (0.6.0)\n",
            "Requirement already satisfied: defusedxml in /usr/local/lib/python3.7/dist-packages (from nbconvert<6.0->notebook>=4.4.1->widgetsnbextension~=3.6.0->ipywidgets->bnlearn) (0.7.1)\n",
            "Requirement already satisfied: entrypoints>=0.2.2 in /usr/local/lib/python3.7/dist-packages (from nbconvert<6.0->notebook>=4.4.1->widgetsnbextension~=3.6.0->ipywidgets->bnlearn) (0.4)\n",
            "Requirement already satisfied: bleach in /usr/local/lib/python3.7/dist-packages (from nbconvert<6.0->notebook>=4.4.1->widgetsnbextension~=3.6.0->ipywidgets->bnlearn) (5.0.1)\n",
            "Requirement already satisfied: mistune<2,>=0.8.1 in /usr/local/lib/python3.7/dist-packages (from nbconvert<6.0->notebook>=4.4.1->widgetsnbextension~=3.6.0->ipywidgets->bnlearn) (0.8.4)\n",
            "Requirement already satisfied: pandocfilters>=1.4.1 in /usr/local/lib/python3.7/dist-packages (from nbconvert<6.0->notebook>=4.4.1->widgetsnbextension~=3.6.0->ipywidgets->bnlearn) (1.5.0)\n",
            "Requirement already satisfied: importlib-metadata>=3.6 in /usr/local/lib/python3.7/dist-packages (from nbformat->notebook>=4.4.1->widgetsnbextension~=3.6.0->ipywidgets->bnlearn) (4.13.0)\n",
            "Requirement already satisfied: jsonschema>=2.6 in /usr/local/lib/python3.7/dist-packages (from nbformat->notebook>=4.4.1->widgetsnbextension~=3.6.0->ipywidgets->bnlearn) (4.3.3)\n",
            "Requirement already satisfied: fastjsonschema in /usr/local/lib/python3.7/dist-packages (from nbformat->notebook>=4.4.1->widgetsnbextension~=3.6.0->ipywidgets->bnlearn) (2.16.2)\n",
            "Requirement already satisfied: zipp>=0.5 in /usr/local/lib/python3.7/dist-packages (from importlib-metadata>=3.6->nbformat->notebook>=4.4.1->widgetsnbextension~=3.6.0->ipywidgets->bnlearn) (3.10.0)\n",
            "Requirement already satisfied: attrs>=17.4.0 in /usr/local/lib/python3.7/dist-packages (from jsonschema>=2.6->nbformat->notebook>=4.4.1->widgetsnbextension~=3.6.0->ipywidgets->bnlearn) (22.1.0)\n",
            "Requirement already satisfied: importlib-resources>=1.4.0 in /usr/local/lib/python3.7/dist-packages (from jsonschema>=2.6->nbformat->notebook>=4.4.1->widgetsnbextension~=3.6.0->ipywidgets->bnlearn) (5.10.0)\n",
            "Requirement already satisfied: pyrsistent!=0.17.0,!=0.17.1,!=0.17.2,>=0.14.0 in /usr/local/lib/python3.7/dist-packages (from jsonschema>=2.6->nbformat->notebook>=4.4.1->widgetsnbextension~=3.6.0->ipywidgets->bnlearn) (0.19.2)\n",
            "Requirement already satisfied: ptyprocess in /usr/local/lib/python3.7/dist-packages (from terminado>=0.8.1->notebook>=4.4.1->widgetsnbextension~=3.6.0->ipywidgets->bnlearn) (0.7.0)\n",
            "Requirement already satisfied: webencodings in /usr/local/lib/python3.7/dist-packages (from bleach->nbconvert<6.0->notebook>=4.4.1->widgetsnbextension~=3.6.0->ipywidgets->bnlearn) (0.5.1)\n",
            "Requirement already satisfied: pytz>=2017.3 in /usr/local/lib/python3.7/dist-packages (from pandas->bnlearn) (2022.6)\n",
            "Collecting jsonpickle>=1.4.1\n",
            "  Downloading jsonpickle-2.2.0-py2.py3-none-any.whl (39 kB)\n",
            "Requirement already satisfied: certifi>=2017.4.17 in /usr/local/lib/python3.7/dist-packages (from requests->community->bnlearn) (2022.9.24)\n",
            "Requirement already satisfied: idna<3,>=2.5 in /usr/local/lib/python3.7/dist-packages (from requests->community->bnlearn) (2.10)\n",
            "Requirement already satisfied: urllib3!=1.25.0,!=1.25.1,<1.26,>=1.21.1 in /usr/local/lib/python3.7/dist-packages (from requests->community->bnlearn) (1.24.3)\n",
            "Requirement already satisfied: chardet<4,>=3.0.2 in /usr/local/lib/python3.7/dist-packages (from requests->community->bnlearn) (3.0.4)\n",
            "Requirement already satisfied: threadpoolctl>=2.0.0 in /usr/local/lib/python3.7/dist-packages (from scikit-learn->pgmpy>=0.1.13->bnlearn) (3.1.0)\n",
            "Requirement already satisfied: patsy>=0.5 in /usr/local/lib/python3.7/dist-packages (from statsmodels->bnlearn) (0.5.3)\n",
            "Building wheels for collected packages: pyvis, sklearn, wget\n",
            "  Building wheel for pyvis (setup.py) ... \u001b[?25l\u001b[?25hdone\n",
            "  Created wheel for pyvis: filename=pyvis-0.3.1-py3-none-any.whl size=755850 sha256=2b30faa28fbce1af29dcf0efceeddd3a082b0bb87e070fc75ba1b9bc422921fe\n",
            "  Stored in directory: /root/.cache/pip/wheels/12/17/67/179b65f101f0d0236e67b2fa039e5d387806348e80205c6985\n",
            "  Building wheel for sklearn (setup.py) ... \u001b[?25l\u001b[?25hdone\n",
            "  Created wheel for sklearn: filename=sklearn-0.0.post1-py3-none-any.whl size=2344 sha256=3f66b2600ed1df1f7fc025a302333ca204c1ccb445ec7c224e4e122091ffa595\n",
            "  Stored in directory: /root/.cache/pip/wheels/42/56/cc/4a8bf86613aafd5b7f1b310477667c1fca5c51c3ae4124a003\n",
            "  Building wheel for wget (setup.py) ... \u001b[?25l\u001b[?25hdone\n",
            "  Created wheel for wget: filename=wget-3.2-py3-none-any.whl size=9674 sha256=dc87a2b3918fb1cd4a1f87686e30f09fc7e7baf1e23e0d570b3d78cd47c268e6\n",
            "  Stored in directory: /root/.cache/pip/wheels/a1/b6/7c/0e63e34eb06634181c63adacca38b79ff8f35c37e3c13e3c02\n",
            "Successfully built pyvis sklearn wget\n",
            "Installing collected packages: jedi, wget, sklearn, jsonpickle, fonttools, pyvis, pypickle, matplotlib, ismember, funcsigs, df2onehot, bnlearn\n",
            "  Attempting uninstall: matplotlib\n",
            "    Found existing installation: matplotlib 3.2.2\n",
            "    Uninstalling matplotlib-3.2.2:\n",
            "      Successfully uninstalled matplotlib-3.2.2\n",
            "Successfully installed bnlearn-0.6.3 df2onehot-1.0.1 fonttools-4.38.0 funcsigs-1.0.2 ismember-1.0.2 jedi-0.18.2 jsonpickle-2.2.0 matplotlib-3.5.3 pypickle-1.1.0 pyvis-0.3.1 sklearn-0.0.post1 wget-3.2\n"
          ]
        },
        {
          "data": {
            "application/vnd.colab-display-data+json": {
              "pip_warning": {
                "packages": [
                  "matplotlib",
                  "mpl_toolkits"
                ]
              }
            }
          },
          "metadata": {},
          "output_type": "display_data"
        }
      ],
      "source": [
        "!pip install pgmpy\n",
        "!pip install bnlearn\n"
      ]
    },
    {
      "cell_type": "code",
      "execution_count": null,
      "id": "wneiSdswuV6s",
      "metadata": {
        "colab": {
          "base_uri": "https://localhost:8080/"
        },
        "id": "wneiSdswuV6s",
        "outputId": "4a1e902d-632e-4983-b4b4-cb4db1269cfd"
      },
      "outputs": [
        {
          "name": "stdout",
          "output_type": "stream",
          "text": [
            "Found existing installation: matplotlib 3.5.3\n",
            "Uninstalling matplotlib-3.5.3:\n",
            "  Would remove:\n",
            "    /usr/local/lib/python3.7/dist-packages/matplotlib-3.5.3-py3.7-nspkg.pth\n",
            "    /usr/local/lib/python3.7/dist-packages/matplotlib-3.5.3.dist-info/*\n",
            "    /usr/local/lib/python3.7/dist-packages/matplotlib/*\n",
            "    /usr/local/lib/python3.7/dist-packages/mpl_toolkits/axes_grid/*\n",
            "    /usr/local/lib/python3.7/dist-packages/mpl_toolkits/axes_grid1/*\n",
            "    /usr/local/lib/python3.7/dist-packages/mpl_toolkits/axisartist/*\n",
            "    /usr/local/lib/python3.7/dist-packages/mpl_toolkits/mplot3d/*\n",
            "    /usr/local/lib/python3.7/dist-packages/mpl_toolkits/tests/*\n",
            "    /usr/local/lib/python3.7/dist-packages/pylab.py\n",
            "Proceed (y/n)? y\n",
            "  Successfully uninstalled matplotlib-3.5.3\n"
          ]
        }
      ],
      "source": [
        "pip uninstall matplotlib"
      ]
    },
    {
      "cell_type": "code",
      "execution_count": null,
      "id": "ZOK4rBr-ua-f",
      "metadata": {
        "colab": {
          "base_uri": "https://localhost:8080/",
          "height": 138
        },
        "id": "ZOK4rBr-ua-f",
        "outputId": "457e91b9-b6c8-4d02-a5a3-35d464481e0c"
      },
      "outputs": [
        {
          "name": "stdout",
          "output_type": "stream",
          "text": [
            "Installing collected packages: matplotlib\n",
            "Successfully installed matplotlib-3.3.4\n"
          ]
        },
        {
          "data": {
            "application/vnd.colab-display-data+json": {
              "pip_warning": {
                "packages": [
                  "matplotlib",
                  "mpl_toolkits"
                ]
              }
            }
          },
          "metadata": {},
          "output_type": "display_data"
        }
      ],
      "source": [
        "pip install matplotlib==3.3.4"
      ]
    },
    {
      "cell_type": "code",
      "execution_count": null,
      "id": "VDqr9_zZdKCJ",
      "metadata": {
        "colab": {
          "base_uri": "https://localhost:8080/"
        },
        "id": "VDqr9_zZdKCJ",
        "outputId": "95b3d29c-bc6c-48a2-8f83-186d15f2822a"
      },
      "outputs": [
        {
          "name": "stdout",
          "output_type": "stream",
          "text": [
            "Mounted at /content/drive\n"
          ]
        }
      ],
      "source": [
        "from google.colab import drive\n",
        "drive.mount('/content/drive')"
      ]
    },
    {
      "cell_type": "code",
      "execution_count": null,
      "id": "cca1b103",
      "metadata": {
        "id": "cca1b103"
      },
      "outputs": [],
      "source": [
        "import pandas as pd\n",
        "import bnlearn as bn\n",
        "import torch\n",
        "import numpy as np\n",
        "from pgmpy.models import BayesianModel\n",
        "from pgmpy.estimators import PC, HillClimbSearch\n",
        "from pgmpy.estimators import MaximumLikelihoodEstimator, ExhaustiveSearch, BicScore , BDeuScore, K2Score\n",
        "from pgmpy.estimators import BdeuScore, K2Score, BicScore\n",
        "from pgmpy.inference import VariableElimination\n",
        "import matplotlib.pyplot as plt\n",
        "import networkx as nx\n",
        "from pgmpy.metrics import log_likelihood_score,structure_score\n",
        "from pgmpy.independencies import Independencies"
      ]
    },
    {
      "cell_type": "code",
      "execution_count": null,
      "id": "a0cab90e",
      "metadata": {
        "colab": {
          "base_uri": "https://localhost:8080/"
        },
        "id": "a0cab90e",
        "outputId": "07bac699-2b08-4f34-9560-25b40361215b"
      },
      "outputs": [
        {
          "name": "stdout",
          "output_type": "stream",
          "text": [
            "running on the GPU\n"
          ]
        }
      ],
      "source": [
        "if torch.cuda.is_available():\n",
        "    device = torch.device(\"cuda:0\")\n",
        "    print(\"running on the GPU\")\n",
        "else:\n",
        "    device = torch.device(\"cpu\")\n",
        "    print(\"running on the CPU\")\n",
        "\n"
      ]
    },
    {
      "cell_type": "code",
      "execution_count": null,
      "id": "7b6e2117",
      "metadata": {
        "colab": {
          "base_uri": "https://localhost:8080/",
          "height": 206
        },
        "id": "7b6e2117",
        "outputId": "bfbf1dde-420f-4400-d551-ad8d3d425bb1"
      },
      "outputs": [
        {
          "data": {
            "text/html": [
              "\n",
              "  <div id=\"df-8f9f4223-579d-4844-940d-8f965b7c8cd0\">\n",
              "    <div class=\"colab-df-container\">\n",
              "      <div>\n",
              "<style scoped>\n",
              "    .dataframe tbody tr th:only-of-type {\n",
              "        vertical-align: middle;\n",
              "    }\n",
              "\n",
              "    .dataframe tbody tr th {\n",
              "        vertical-align: top;\n",
              "    }\n",
              "\n",
              "    .dataframe thead th {\n",
              "        text-align: right;\n",
              "    }\n",
              "</style>\n",
              "<table border=\"1\" class=\"dataframe\">\n",
              "  <thead>\n",
              "    <tr style=\"text-align: right;\">\n",
              "      <th></th>\n",
              "      <th>gender</th>\n",
              "      <th>age</th>\n",
              "      <th>hypertension</th>\n",
              "      <th>heart_disease</th>\n",
              "      <th>ever_married</th>\n",
              "      <th>work_type</th>\n",
              "      <th>Residence_type</th>\n",
              "      <th>avg_glucose_level</th>\n",
              "      <th>bmi</th>\n",
              "      <th>smoking_status</th>\n",
              "      <th>stroke</th>\n",
              "    </tr>\n",
              "  </thead>\n",
              "  <tbody>\n",
              "    <tr>\n",
              "      <th>0</th>\n",
              "      <td>gender</td>\n",
              "      <td>age</td>\n",
              "      <td>hypertension</td>\n",
              "      <td>heart_disease</td>\n",
              "      <td>ever_married</td>\n",
              "      <td>work_type</td>\n",
              "      <td>Residence_type</td>\n",
              "      <td>avg_glucose_level</td>\n",
              "      <td>bmi</td>\n",
              "      <td>smoking_status</td>\n",
              "      <td>stroke</td>\n",
              "    </tr>\n",
              "    <tr>\n",
              "      <th>1</th>\n",
              "      <td>Male</td>\n",
              "      <td>4</td>\n",
              "      <td>0</td>\n",
              "      <td>1</td>\n",
              "      <td>Yes</td>\n",
              "      <td>Private</td>\n",
              "      <td>Urban</td>\n",
              "      <td>4</td>\n",
              "      <td>1</td>\n",
              "      <td>formerly smoked</td>\n",
              "      <td>1</td>\n",
              "    </tr>\n",
              "    <tr>\n",
              "      <th>2</th>\n",
              "      <td>Female</td>\n",
              "      <td>3</td>\n",
              "      <td>0</td>\n",
              "      <td>0</td>\n",
              "      <td>Yes</td>\n",
              "      <td>Self-employed</td>\n",
              "      <td>Rural</td>\n",
              "      <td>3</td>\n",
              "      <td>1</td>\n",
              "      <td>never smoked</td>\n",
              "      <td>1</td>\n",
              "    </tr>\n",
              "    <tr>\n",
              "      <th>3</th>\n",
              "      <td>Male</td>\n",
              "      <td>4</td>\n",
              "      <td>0</td>\n",
              "      <td>1</td>\n",
              "      <td>Yes</td>\n",
              "      <td>Private</td>\n",
              "      <td>Rural</td>\n",
              "      <td>1</td>\n",
              "      <td>1</td>\n",
              "      <td>never smoked</td>\n",
              "      <td>1</td>\n",
              "    </tr>\n",
              "    <tr>\n",
              "      <th>4</th>\n",
              "      <td>Female</td>\n",
              "      <td>2</td>\n",
              "      <td>0</td>\n",
              "      <td>0</td>\n",
              "      <td>Yes</td>\n",
              "      <td>Private</td>\n",
              "      <td>Urban</td>\n",
              "      <td>2</td>\n",
              "      <td>1</td>\n",
              "      <td>smokes</td>\n",
              "      <td>1</td>\n",
              "    </tr>\n",
              "  </tbody>\n",
              "</table>\n",
              "</div>\n",
              "      <button class=\"colab-df-convert\" onclick=\"convertToInteractive('df-8f9f4223-579d-4844-940d-8f965b7c8cd0')\"\n",
              "              title=\"Convert this dataframe to an interactive table.\"\n",
              "              style=\"display:none;\">\n",
              "        \n",
              "  <svg xmlns=\"http://www.w3.org/2000/svg\" height=\"24px\"viewBox=\"0 0 24 24\"\n",
              "       width=\"24px\">\n",
              "    <path d=\"M0 0h24v24H0V0z\" fill=\"none\"/>\n",
              "    <path d=\"M18.56 5.44l.94 2.06.94-2.06 2.06-.94-2.06-.94-.94-2.06-.94 2.06-2.06.94zm-11 1L8.5 8.5l.94-2.06 2.06-.94-2.06-.94L8.5 2.5l-.94 2.06-2.06.94zm10 10l.94 2.06.94-2.06 2.06-.94-2.06-.94-.94-2.06-.94 2.06-2.06.94z\"/><path d=\"M17.41 7.96l-1.37-1.37c-.4-.4-.92-.59-1.43-.59-.52 0-1.04.2-1.43.59L10.3 9.45l-7.72 7.72c-.78.78-.78 2.05 0 2.83L4 21.41c.39.39.9.59 1.41.59.51 0 1.02-.2 1.41-.59l7.78-7.78 2.81-2.81c.8-.78.8-2.07 0-2.86zM5.41 20L4 18.59l7.72-7.72 1.47 1.35L5.41 20z\"/>\n",
              "  </svg>\n",
              "      </button>\n",
              "      \n",
              "  <style>\n",
              "    .colab-df-container {\n",
              "      display:flex;\n",
              "      flex-wrap:wrap;\n",
              "      gap: 12px;\n",
              "    }\n",
              "\n",
              "    .colab-df-convert {\n",
              "      background-color: #E8F0FE;\n",
              "      border: none;\n",
              "      border-radius: 50%;\n",
              "      cursor: pointer;\n",
              "      display: none;\n",
              "      fill: #1967D2;\n",
              "      height: 32px;\n",
              "      padding: 0 0 0 0;\n",
              "      width: 32px;\n",
              "    }\n",
              "\n",
              "    .colab-df-convert:hover {\n",
              "      background-color: #E2EBFA;\n",
              "      box-shadow: 0px 1px 2px rgba(60, 64, 67, 0.3), 0px 1px 3px 1px rgba(60, 64, 67, 0.15);\n",
              "      fill: #174EA6;\n",
              "    }\n",
              "\n",
              "    [theme=dark] .colab-df-convert {\n",
              "      background-color: #3B4455;\n",
              "      fill: #D2E3FC;\n",
              "    }\n",
              "\n",
              "    [theme=dark] .colab-df-convert:hover {\n",
              "      background-color: #434B5C;\n",
              "      box-shadow: 0px 1px 3px 1px rgba(0, 0, 0, 0.15);\n",
              "      filter: drop-shadow(0px 1px 2px rgba(0, 0, 0, 0.3));\n",
              "      fill: #FFFFFF;\n",
              "    }\n",
              "  </style>\n",
              "\n",
              "      <script>\n",
              "        const buttonEl =\n",
              "          document.querySelector('#df-8f9f4223-579d-4844-940d-8f965b7c8cd0 button.colab-df-convert');\n",
              "        buttonEl.style.display =\n",
              "          google.colab.kernel.accessAllowed ? 'block' : 'none';\n",
              "\n",
              "        async function convertToInteractive(key) {\n",
              "          const element = document.querySelector('#df-8f9f4223-579d-4844-940d-8f965b7c8cd0');\n",
              "          const dataTable =\n",
              "            await google.colab.kernel.invokeFunction('convertToInteractive',\n",
              "                                                     [key], {});\n",
              "          if (!dataTable) return;\n",
              "\n",
              "          const docLinkHtml = 'Like what you see? Visit the ' +\n",
              "            '<a target=\"_blank\" href=https://colab.research.google.com/notebooks/data_table.ipynb>data table notebook</a>'\n",
              "            + ' to learn more about interactive tables.';\n",
              "          element.innerHTML = '';\n",
              "          dataTable['output_type'] = 'display_data';\n",
              "          await google.colab.output.renderOutput(dataTable, element);\n",
              "          const docLink = document.createElement('div');\n",
              "          docLink.innerHTML = docLinkHtml;\n",
              "          element.appendChild(docLink);\n",
              "        }\n",
              "      </script>\n",
              "    </div>\n",
              "  </div>\n",
              "  "
            ],
            "text/plain": [
              "   gender  age  hypertension  heart_disease  ever_married      work_type  \\\n",
              "0  gender  age  hypertension  heart_disease  ever_married      work_type   \n",
              "1    Male    4             0              1           Yes        Private   \n",
              "2  Female    3             0              0           Yes  Self-employed   \n",
              "3    Male    4             0              1           Yes        Private   \n",
              "4  Female    2             0              0           Yes        Private   \n",
              "\n",
              "   Residence_type  avg_glucose_level  bmi   smoking_status  stroke  \n",
              "0  Residence_type  avg_glucose_level  bmi   smoking_status  stroke  \n",
              "1           Urban                  4    1  formerly smoked       1  \n",
              "2           Rural                  3    1     never smoked       1  \n",
              "3           Rural                  1    1     never smoked       1  \n",
              "4           Urban                  2    1           smokes       1  "
            ]
          },
          "execution_count": 2,
          "metadata": {},
          "output_type": "execute_result"
        }
      ],
      "source": [
        "title = \"gender,age,hypertension,heart_disease,ever_married,work_type,Residence_type,avg_glucose_level,bmi,smoking_status,stroke\"\n",
        "\n",
        "title = title.split(\",\")\n",
        "\n",
        "data_train = pd.read_csv(r\"/content/drive/MyDrive/AAI docs/stroke-data-discretized-train.csv\", names=title)\n",
        "data_test = pd.read_csv(r\"/content/drive/MyDrive/AAI docs/stroke-data-discretized-test.csv\", names=title)\n",
        "\n",
        "data_train.head()"
      ]
    },
    {
      "cell_type": "code",
      "execution_count": null,
      "id": "p0b1s-JnhUlW",
      "metadata": {
        "id": "p0b1s-JnhUlW"
      },
      "outputs": [],
      "source": [
        "model = BayesianModel([('stroke','smoking_status'),('stroke','age'), ('stroke','avg_glucose_level'),\n",
        "                       ('age','smoking_status'),('age','bmi'),('age','ever_married'),('age','avg_glucose_level'),\n",
        "                       ('avg_glucose_level','smoking_status'),\n",
        "                       ('Residence_type','smoking_status'),\n",
        "                       ('ever_married','smoking_status'),\n",
        "                       ('work_type','hypertension'),('work_type','age'),('work_type','smoking_status'),\n",
        "                       ('hypertension','stroke'),('hypertension','age'),('hypertension','avg_glucose_level'),('hypertension','bmi'),('hypertension','smoking_status'),\n",
        "                       ('gender','smoking_status'), ('gender','avg_glucose_level'),\n",
        "                       ('heart_disease','gender'),('heart_disease','stroke'), ('heart_disease','age'), ('heart_disease','avg_glucose_level'),('heart_disease','Residence_type')])\n",
        "\n",
        "\n",
        "\n"
      ]
    },
    {
      "cell_type": "code",
      "execution_count": null,
      "id": "75e665c4",
      "metadata": {
        "id": "75e665c4"
      },
      "outputs": [],
      "source": [
        "model.fit(data_train, estimator=MaximumLikelihoodEstimator)"
      ]
    },
    {
      "cell_type": "code",
      "execution_count": null,
      "id": "50574fc5",
      "metadata": {
        "id": "50574fc5"
      },
      "outputs": [],
      "source": [
        "fig, ax = plt.subplots(figsize=(10, 10))"
      ]
    },
    {
      "cell_type": "code",
      "execution_count": null,
      "id": "Pl3qhoXvfhMQ",
      "metadata": {
        "id": "Pl3qhoXvfhMQ"
      },
      "outputs": [],
      "source": [
        "nx.draw(model, with_labels=True)\n",
        "plt.show()"
      ]
    },
    {
      "cell_type": "code",
      "execution_count": null,
      "id": "9O8B2jWwjeJL",
      "metadata": {
        "id": "9O8B2jWwjeJL"
      },
      "outputs": [],
      "source": [
        "bic = BicScore(data_train)\n",
        "bdeu = BDeuScore(data_train, equivalent_sample_size=5)\n",
        "k2 = K2Score(data_train)"
      ]
    },
    {
      "cell_type": "code",
      "execution_count": null,
      "id": "RHDQJRIK9R00",
      "metadata": {
        "id": "RHDQJRIK9R00"
      },
      "outputs": [],
      "source": [
        "model.nodes()\n",
        "model.get_independencies()"
      ]
    },
    {
      "cell_type": "code",
      "execution_count": null,
      "id": "9FNudv_hPSLF",
      "metadata": {
        "colab": {
          "base_uri": "https://localhost:8080/"
        },
        "id": "9FNudv_hPSLF",
        "outputId": "f2d98552-563a-4b8b-afe6-301ecc2943d7"
      },
      "outputs": [
        {
          "name": "stdout",
          "output_type": "stream",
          "text": [
            "-30620.09325503201\n",
            "-1214254.337762864\n"
          ]
        }
      ],
      "source": [
        "print(log_likelihood_score(model, data_train))\n",
        "print(structure_score(model, data_train, scoring_method=\"bic\"))"
      ]
    },
    {
      "cell_type": "code",
      "execution_count": null,
      "id": "18w9OS0ao9cK",
      "metadata": {
        "colab": {
          "base_uri": "https://localhost:8080/"
        },
        "id": "18w9OS0ao9cK",
        "outputId": "a5de8543-3f1c-47f8-ca96-da73366fbecf"
      },
      "outputs": [
        {
          "data": {
            "text/plain": [
              "OutEdgeView([('stroke', 'smoking_status'), ('stroke', 'age'), ('stroke', 'avg_glucose_level'), ('age', 'smoking_status'), ('age', 'bmi'), ('age', 'ever_married'), ('age', 'avg_glucose_level'), ('avg_glucose_level', 'smoking_status'), ('ever_married', 'smoking_status'), ('Residence_type', 'smoking_status'), ('work_type', 'hypertension'), ('work_type', 'age'), ('work_type', 'smoking_status'), ('hypertension', 'stroke'), ('hypertension', 'age'), ('hypertension', 'avg_glucose_level'), ('hypertension', 'bmi'), ('hypertension', 'smoking_status'), ('gender', 'smoking_status'), ('gender', 'avg_glucose_level'), ('heart_disease', 'gender'), ('heart_disease', 'stroke'), ('heart_disease', 'age'), ('heart_disease', 'avg_glucose_level'), ('heart_disease', 'Residence_type')])"
            ]
          },
          "execution_count": 6,
          "metadata": {},
          "output_type": "execute_result"
        }
      ],
      "source": [
        "model.edges()"
      ]
    },
    {
      "cell_type": "code",
      "execution_count": null,
      "id": "mGRM-_-2kANL",
      "metadata": {
        "id": "mGRM-_-2kANL"
      },
      "outputs": [],
      "source": [
        "model.get_immoralities"
      ]
    },
    {
      "cell_type": "code",
      "execution_count": null,
      "id": "Uy9b8D4KpjAz",
      "metadata": {
        "id": "Uy9b8D4KpjAz"
      },
      "outputs": [],
      "source": [
        "model.get_immoralities()"
      ]
    },
    {
      "cell_type": "code",
      "execution_count": null,
      "id": "20ehEsRGljIu",
      "metadata": {
        "id": "20ehEsRGljIu"
      },
      "outputs": [],
      "source": [
        "model.fit(data_train)"
      ]
    },
    {
      "cell_type": "code",
      "execution_count": null,
      "id": "RYvjw-SWlr9h",
      "metadata": {
        "colab": {
          "base_uri": "https://localhost:8080/"
        },
        "id": "RYvjw-SWlr9h",
        "outputId": "444d63dd-df22-4d93-e3db-f531137d2dc8"
      },
      "outputs": [
        {
          "name": "stdout",
          "output_type": "stream",
          "text": [
            "[<TabularCPD representing P(stroke:3 | heart_disease:3, hypertension:3) at 0x7f7cbd1f93d0>, <TabularCPD representing P(smoking_status:5 | Residence_type:3, age:6, avg_glucose_level:6, ever_married:3, gender:4, hypertension:3, stroke:3, work_type:6) at 0x7f7cbd8a2cd0>, <TabularCPD representing P(age:6 | heart_disease:3, hypertension:3, stroke:3, work_type:6) at 0x7f7cbd218c50>, <TabularCPD representing P(avg_glucose_level:6 | age:6, gender:4, heart_disease:3, hypertension:3, stroke:3) at 0x7f7cbd209dd0>, <TabularCPD representing P(bmi:6 | age:6, hypertension:3) at 0x7f7cb8484490>, <TabularCPD representing P(ever_married:3 | age:6) at 0x7f7cbd214f10>, <TabularCPD representing P(Residence_type:3 | heart_disease:3) at 0x7f7cbd8d9f10>, <TabularCPD representing P(work_type:6) at 0x7f7cbd210fd0>, <TabularCPD representing P(hypertension:3 | work_type:6) at 0x7f7cb8480d50>, <TabularCPD representing P(gender:4 | heart_disease:3) at 0x7f7cbd215ed0>, <TabularCPD representing P(heart_disease:3) at 0x7f7cb8484b10>]\n"
          ]
        }
      ],
      "source": [
        "#print(model.get_cpds())"
      ]
    },
    {
      "cell_type": "code",
      "execution_count": null,
      "id": "D_NgE20RnI4C",
      "metadata": {
        "id": "D_NgE20RnI4C"
      },
      "outputs": [],
      "source": [
        "est = PC(data_train)"
      ]
    },
    {
      "cell_type": "code",
      "execution_count": null,
      "id": "Ad1eEGbrnW-r",
      "metadata": {
        "colab": {
          "base_uri": "https://localhost:8080/",
          "height": 49,
          "referenced_widgets": [
            "04a0efc8d5c94470b50fa30ae69fee1d",
            "2ff1511ea628439da8d97063e6952f58",
            "cf96519f66a142bbbf026a4d38f11717",
            "23d1f1a7707d45a9a367a53e81058a06",
            "481da280a1b740c1a24db6155d88fe0b",
            "67d3e46234bb4e70ab4aa72dd178ec72",
            "9f3ef797d08645b9a1ece8c19d78333d",
            "8a69778c1779440881b37f42e7424287",
            "9b1af5380fb043fab9ebefc8e9a0dd09",
            "06adee103f81485eb2a3e51394c9c33b",
            "2488b356014d4029ae50bb974af0ef7b"
          ]
        },
        "id": "Ad1eEGbrnW-r",
        "outputId": "55f4298d-c12d-4125-9568-7fecf1ffacef"
      },
      "outputs": [
        {
          "data": {
            "application/vnd.jupyter.widget-view+json": {
              "model_id": "04a0efc8d5c94470b50fa30ae69fee1d",
              "version_major": 2,
              "version_minor": 0
            },
            "text/plain": [
              "  0%|          | 0/5 [00:00<?, ?it/s]"
            ]
          },
          "metadata": {},
          "output_type": "display_data"
        }
      ],
      "source": [
        "skel, seperating_sets = est.build_skeleton(significance_level=0.01)"
      ]
    },
    {
      "cell_type": "code",
      "execution_count": null,
      "id": "atA6ja2Wnlnf",
      "metadata": {
        "colab": {
          "base_uri": "https://localhost:8080/"
        },
        "id": "atA6ja2Wnlnf",
        "outputId": "3613b097-bbac-46b9-8112-8fe874842134"
      },
      "outputs": [
        {
          "name": "stdout",
          "output_type": "stream",
          "text": [
            "Undirected edges:  [('gender', 'heart_disease'), ('gender', 'smoking_status'), ('age', 'hypertension'), ('age', 'heart_disease'), ('age', 'ever_married'), ('age', 'work_type'), ('age', 'avg_glucose_level'), ('age', 'bmi'), ('age', 'smoking_status'), ('age', 'stroke'), ('hypertension', 'avg_glucose_level'), ('hypertension', 'bmi'), ('work_type', 'smoking_status'), ('avg_glucose_level', 'bmi')]\n"
          ]
        }
      ],
      "source": [
        "print(\"Undirected edges: \", skel.edges())"
      ]
    },
    {
      "cell_type": "code",
      "execution_count": null,
      "id": "90LMH00tomY8",
      "metadata": {
        "colab": {
          "base_uri": "https://localhost:8080/",
          "height": 319
        },
        "id": "90LMH00tomY8",
        "outputId": "a8852442-72d8-4370-c9a3-6538140e98df"
      },
      "outputs": [
        {
          "data": {
            "image/png": "[encoded data removed]",
            "text/plain": [
              "<Figure size 432x288 with 1 Axes>"
            ]
          },
          "metadata": {},
          "output_type": "display_data"
        }
      ],
      "source": [
        "nx.draw(skel, with_labels=True)\n",
        "plt.show()"
      ]
    },
    {
      "cell_type": "code",
      "execution_count": null,
      "id": "_PaBKtL8o5O3",
      "metadata": {
        "colab": {
          "base_uri": "https://localhost:8080/"
        },
        "id": "_PaBKtL8o5O3",
        "outputId": "215bd75b-15f4-4e0b-dc46-20f79972e1cc"
      },
      "outputs": [
        {
          "name": "stdout",
          "output_type": "stream",
          "text": [
            "PDAG edges:        [('work_type', 'smoking_status'), ('work_type', 'age'), ('heart_disease', 'gender'), ('heart_disease', 'age'), ('age', 'smoking_status'), ('age', 'avg_glucose_level'), ('age', 'work_type'), ('age', 'ever_married'), ('age', 'heart_disease'), ('age', 'hypertension'), ('age', 'stroke'), ('age', 'bmi'), ('hypertension', 'age'), ('hypertension', 'avg_glucose_level'), ('hypertension', 'bmi'), ('stroke', 'age'), ('avg_glucose_level', 'bmi'), ('avg_glucose_level', 'age'), ('avg_glucose_level', 'hypertension'), ('ever_married', 'age'), ('bmi', 'age'), ('bmi', 'hypertension'), ('bmi', 'avg_glucose_level')]\n"
          ]
        }
      ],
      "source": [
        "pdag = est.skeleton_to_pdag(skel, seperating_sets)\n",
        "print(\"PDAG edges:       \", pdag.edges())"
      ]
    },
    {
      "cell_type": "code",
      "execution_count": null,
      "id": "lB-vISfXo5WE",
      "metadata": {
        "colab": {
          "base_uri": "https://localhost:8080/",
          "height": 319
        },
        "id": "lB-vISfXo5WE",
        "outputId": "6c4907fe-e722-4472-957d-330ef5305f16"
      },
      "outputs": [
        {
          "data": {
            "image/png": "[encoded data removed]",
            "text/plain": [
              "<Figure size 432x288 with 1 Axes>"
            ]
          },
          "metadata": {},
          "output_type": "display_data"
        }
      ],
      "source": [
        "nx.draw(pdag, with_labels=True)\n",
        "plt.show()"
      ]
    },
    {
      "cell_type": "code",
      "execution_count": null,
      "id": "imI7UXanpFqX",
      "metadata": {
        "colab": {
          "base_uri": "https://localhost:8080/"
        },
        "id": "imI7UXanpFqX",
        "outputId": "9fd6eb2b-6010-4105-b540-c01d1fd3714c"
      },
      "outputs": [
        {
          "name": "stdout",
          "output_type": "stream",
          "text": [
            "DAG edges:         [('work_type', 'smoking_status'), ('heart_disease', 'gender'), ('age', 'smoking_status'), ('age', 'heart_disease'), ('age', 'work_type'), ('age', 'bmi'), ('age', 'avg_glucose_level'), ('age', 'hypertension'), ('age', 'stroke'), ('hypertension', 'bmi'), ('hypertension', 'avg_glucose_level'), ('avg_glucose_level', 'bmi'), ('ever_married', 'age')]\n"
          ]
        }
      ],
      "source": [
        "model = pdag.to_dag()\n",
        "print(\"DAG edges:        \", model.edges())"
      ]
    },
    {
      "cell_type": "code",
      "execution_count": null,
      "id": "g6ffPc8RpG3-",
      "metadata": {
        "colab": {
          "base_uri": "https://localhost:8080/",
          "height": 319
        },
        "id": "g6ffPc8RpG3-",
        "outputId": "0460e06f-1e2a-46ae-c9be-ac30f12eb8ae"
      },
      "outputs": [
        {
          "data": {
            "image/png": "[encoded data removed]",
            "text/plain": [
              "<Figure size 432x288 with 1 Axes>"
            ]
          },
          "metadata": {},
          "output_type": "display_data"
        }
      ],
      "source": [
        "nx.draw(pdag, with_labels=True)\n",
        "plt.show()"
      ]
    },
    {
      "cell_type": "code",
      "execution_count": null,
      "id": "3VWkay6OpUHV",
      "metadata": {
        "colab": {
          "base_uri": "https://localhost:8080/",
          "height": 49,
          "referenced_widgets": [
            "4d64f5ee91104a9483dbea2d457c552a",
            "904c1834c72a4264bf4c0b69b5062456",
            "1aca7764d94b4d88a3e634704dd5483c",
            "59929453e23d42d8bd258fb19ef28bff",
            "dae7510078694aea843bde25830b0708",
            "8e0fe06b13e64ebca047b1fcb7b8e95e",
            "8ce2d0c74cfa4f108f7596a0774febaa",
            "4cb92a3a3811474f936e772bb823f300",
            "b3e3faaf010246cd97b98d97bf09e4ad",
            "a0c800117a4d4e02af60b8b92e19519c",
            "f9e452719f5c4f44bff78317368de272"
          ]
        },
        "collapsed": true,
        "id": "3VWkay6OpUHV",
        "outputId": "64963743-e0d5-497c-9e5a-7ff96ddf5464"
      },
      "outputs": [
        {
          "data": {
            "application/vnd.jupyter.widget-view+json": {
              "model_id": "4d64f5ee91104a9483dbea2d457c552a",
              "version_major": 2,
              "version_minor": 0
            },
            "text/plain": [
              "  0%|          | 0/5 [00:00<?, ?it/s]"
            ]
          },
          "metadata": {},
          "output_type": "display_data"
        }
      ],
      "source": [
        "#model_pc=est.estimate(significance_level=0.01).edges()"
      ]
    },
    {
      "cell_type": "code",
      "execution_count": null,
      "id": "7UddWeVLAFHK",
      "metadata": {
        "colab": {
          "base_uri": "https://localhost:8080/"
        },
        "id": "7UddWeVLAFHK",
        "outputId": "f774b6b2-3efb-4935-d7fc-fdc0d7b9ee27"
      },
      "outputs": [
        {
          "data": {
            "text/plain": [
              "OutEdgeView([('bmi', 'hypertension'), ('bmi', 'age'), ('avg_glucose_level', 'age'), ('avg_glucose_level', 'hypertension'), ('avg_glucose_level', 'bmi'), ('age', 'ever_married'), ('age', 'hypertension'), ('work_type', 'smoking_status'), ('work_type', 'age'), ('stroke', 'age')])"
            ]
          },
          "execution_count": 16,
          "metadata": {},
          "output_type": "execute_result"
        }
      ],
      "source": [
        "model.edges()"
      ]
    },
    {
      "cell_type": "code",
      "execution_count": null,
      "id": "qXYk4VsUBPWu",
      "metadata": {
        "id": "qXYk4VsUBPWu"
      },
      "outputs": [],
      "source": [
        "#need to try\n",
        "from pgmpy.estimators import MmhcEstimator\n",
        "from pgmpy.estimators import BDeuScore\n",
        "\n",
        "mmhc = MmhcEstimator(data_train)\n",
        "skeleton = mmhc.mmpc()\n",
        "print(\"Part 1) Skeleton: \", skeleton.edges())\n",
        "\n"
      ]
    },
    {
      "cell_type": "code",
      "execution_count": null,
      "id": "bqQNlIC8Ro92",
      "metadata": {
        "colab": {
          "base_uri": "https://localhost:8080/"
        },
        "id": "bqQNlIC8Ro92",
        "outputId": "432f7476-6b73-4e7f-9b48-254bfc50c553"
      },
      "outputs": [
        {
          "data": {
            "text/plain": [
              "EdgeView([('gender', 'bmi'), ('gender', 'work_type'), ('age', 'stroke'), ('age', 'smoking_status'), ('age', 'ever_married'), ('age', 'work_type'), ('age', 'Residence_type'), ('hypertension', 'bmi'), ('hypertension', 'avg_glucose_level'), ('heart_disease', 'avg_glucose_level'), ('ever_married', 'avg_glucose_level'), ('ever_married', 'smoking_status'), ('work_type', 'smoking_status'), ('work_type', 'avg_glucose_level'), ('work_type', 'stroke'), ('work_type', 'bmi'), ('Residence_type', 'bmi'), ('avg_glucose_level', 'smoking_status')])"
            ]
          },
          "execution_count": 44,
          "metadata": {},
          "output_type": "execute_result"
        }
      ],
      "source": [
        "skeleton.edges()\n"
      ]
    },
    {
      "cell_type": "code",
      "execution_count": null,
      "id": "zJ5Y6qulR3si",
      "metadata": {
        "colab": {
          "base_uri": "https://localhost:8080/",
          "height": 49,
          "referenced_widgets": [
            "7e853e23932349ad9aa56ba1572710d8",
            "6b7b47c14a8a4fc19b45ee8b77da62f7",
            "8ad0247e1ed74017a473c37a1c0e5146",
            "c6f2e4ca5a3645a386b785a52ff74d47",
            "1ad1c3a91e3e4537996d227eac0989af",
            "e8644dce01c24edda6d003c879a87612",
            "fc4a973dd99a404ebb4ad496261e890d",
            "1ffc93c6f13749eda1ae533acb559d71",
            "8d67acc8b37d49c28a2380b87856b1f3",
            "a0de89f86fd4400392f6e86496012d7d",
            "81e562bc34ca488f9031ab7ab35b7502"
          ]
        },
        "id": "zJ5Y6qulR3si",
        "outputId": "542b9c8c-f760-4a3a-9c4d-0ff930ac85d0"
      },
      "outputs": [
        {
          "data": {
            "application/vnd.jupyter.widget-view+json": {
              "model_id": "7e853e23932349ad9aa56ba1572710d8",
              "version_major": 2,
              "version_minor": 0
            },
            "text/plain": [
              "  0%|          | 0/1000000 [00:00<?, ?it/s]"
            ]
          },
          "metadata": {},
          "output_type": "display_data"
        }
      ],
      "source": [
        "# use hill climb search to orient the edges:\n",
        "hc = HillClimbSearch(data_train)\n",
        "#model = hc.estimate(tabu_length=10, white_list=skeleton.to_directed().edges(), scoring_method=BDeuScore(data_train))\n",
        "model = hc.estimate(tabu_length=10, white_list=model.edges(), scoring_method=BDeuScore(data_train))"
      ]
    },
    {
      "cell_type": "code",
      "execution_count": null,
      "id": "1VFDlLHoSEiB",
      "metadata": {
        "colab": {
          "base_uri": "https://localhost:8080/"
        },
        "id": "1VFDlLHoSEiB",
        "outputId": "007dd621-bdcc-4592-f250-7a188c3c49d8"
      },
      "outputs": [
        {
          "data": {
            "text/plain": [
              "OutEdgeView([('age', 'ever_married'), ('age', 'hypertension'), ('work_type', 'age'), ('work_type', 'smoking_status'), ('avg_glucose_level', 'bmi'), ('bmi', 'hypertension'), ('stroke', 'age')])"
            ]
          },
          "execution_count": 22,
          "metadata": {},
          "output_type": "execute_result"
        }
      ],
      "source": [
        "model.edges()"
      ]
    },
    {
      "cell_type": "code",
      "execution_count": null,
      "id": "JzOae5RhSJnH",
      "metadata": {
        "id": "JzOae5RhSJnH"
      },
      "outputs": [],
      "source": []
    },
    {
      "cell_type": "code",
      "execution_count": null,
      "id": "M-2fIl04wvcb",
      "metadata": {
        "colab": {
          "base_uri": "https://localhost:8080/",
          "height": 86,
          "referenced_widgets": [
            "4d3c96d6f41d4df3be4c06dfb9343c7d",
            "700305bc5cf0444396ffe5d4d320480a",
            "7a28a14c753748c9bd82050c477e78c7",
            "dd07b8e353bd435daf89384cb249deaf",
            "810f6d5175774ec4868a86ca573d19fc",
            "d78d4b9d745a4bab844e8c613b575703",
            "54ff6872a351453a85dc97ba59230a30",
            "021f78ed519447bcadc918df9e00f45d",
            "5d209e9d8c8a40999c81122838c5ce97",
            "ba70c171f54c44f4a994f8aced76235d",
            "be6b5ace54ca46f8963ccf4bbf0ac05b"
          ]
        },
        "id": "M-2fIl04wvcb",
        "outputId": "5cd72976-6802-4cd6-b5ad-1e8c6cd0a645"
      },
      "outputs": [
        {
          "data": {
            "application/vnd.jupyter.widget-view+json": {
              "model_id": "4d3c96d6f41d4df3be4c06dfb9343c7d",
              "version_major": 2,
              "version_minor": 0
            },
            "text/plain": [
              "  0%|          | 0/1000000 [00:00<?, ?it/s]"
            ]
          },
          "metadata": {},
          "output_type": "display_data"
        },
        {
          "name": "stdout",
          "output_type": "stream",
          "text": [
            "[('age', 'work_type'), ('age', 'ever_married'), ('age', 'bmi'), ('age', 'heart_disease'), ('age', 'stroke'), ('age', 'avg_glucose_level'), ('hypertension', 'age'), ('work_type', 'smoking_status')]\n"
          ]
        }
      ],
      "source": [
        "from pgmpy.estimators import HillClimbSearch\n",
        "hc = HillClimbSearch(data_train)\n",
        "best_model = hc.estimate(scoring_method=BicScore(data_train))\n",
        "print(best_model.edges())"
      ]
    },
    {
      "cell_type": "code",
      "execution_count": null,
      "id": "b8zIGJMjrjat",
      "metadata": {
        "colab": {
          "base_uri": "https://localhost:8080/"
        },
        "id": "b8zIGJMjrjat",
        "outputId": "237068cf-4a6c-4f96-d812-37e8686ef363"
      },
      "outputs": [
        {
          "name": "stdout",
          "output_type": "stream",
          "text": [
            "[('age', 'work_type'), ('age', 'ever_married'), ('age', 'bmi'), ('age', 'heart_disease'), ('age', 'stroke'), ('age', 'avg_glucose_level'), ('hypertension', 'age'), ('work_type', 'smoking_status')]\n"
          ]
        }
      ],
      "source": [
        "print(best_model.edges())"
      ]
    },
    {
      "cell_type": "code",
      "execution_count": null,
      "id": "5Zbfscl7oDM6",
      "metadata": {
        "id": "5Zbfscl7oDM6"
      },
      "outputs": [],
      "source": [
        "new_model = BayesianModel(best_model.edges())"
      ]
    },
    {
      "cell_type": "code",
      "execution_count": null,
      "id": "hZS53A6RoP-H",
      "metadata": {
        "colab": {
          "base_uri": "https://localhost:8080/"
        },
        "id": "hZS53A6RoP-H",
        "outputId": "cde8ea2b-8984-413d-ab00-1a1c61c69417"
      },
      "outputs": [
        {
          "data": {
            "text/plain": [
              "OutEdgeView([('age', 'work_type'), ('age', 'ever_married'), ('age', 'bmi'), ('age', 'heart_disease'), ('age', 'stroke'), ('age', 'avg_glucose_level'), ('work_type', 'smoking_status'), ('hypertension', 'age')])"
            ]
          },
          "execution_count": 90,
          "metadata": {},
          "output_type": "execute_result"
        }
      ],
      "source": [
        "new_model.edges()"
      ]
    },
    {
      "cell_type": "code",
      "execution_count": null,
      "id": "7YSduz2zpvSV",
      "metadata": {
        "id": "7YSduz2zpvSV"
      },
      "outputs": [],
      "source": [
        "data_train_new = data_train.drop(['Residence_type','gender'], axis=1)"
      ]
    },
    {
      "cell_type": "code",
      "execution_count": null,
      "id": "DmHcFLKnry7o",
      "metadata": {
        "colab": {
          "base_uri": "https://localhost:8080/",
          "height": 319
        },
        "id": "DmHcFLKnry7o",
        "outputId": "b39d2e3f-6be4-457e-e8a3-b56d62841e97"
      },
      "outputs": [
        {
          "data": {
            "image/png": "[encoded data removed]",
            "text/plain": [
              "<Figure size 432x288 with 1 Axes>"
            ]
          },
          "metadata": {},
          "output_type": "display_data"
        }
      ],
      "source": [
        "nx.draw(new_model, with_labels=True)\n",
        "plt.show()"
      ]
    },
    {
      "cell_type": "code",
      "execution_count": null,
      "id": "JnDW4Z-DoV_o",
      "metadata": {
        "id": "JnDW4Z-DoV_o"
      },
      "outputs": [],
      "source": [
        "new_model.fit(data_train_new, estimator=MaximumLikelihoodEstimator)"
      ]
    },
    {
      "cell_type": "code",
      "execution_count": null,
      "id": "9Sb4lSjTsq4E",
      "metadata": {
        "colab": {
          "base_uri": "https://localhost:8080/"
        },
        "id": "9Sb4lSjTsq4E",
        "outputId": "78d20ed8-2976-42c1-bdf0-bc24f4d6b5fd"
      },
      "outputs": [
        {
          "data": {
            "text/plain": [
              "NodeView(('age', 'work_type', 'ever_married', 'bmi', 'heart_disease', 'stroke', 'avg_glucose_level', 'hypertension', 'smoking_status'))"
            ]
          },
          "execution_count": 41,
          "metadata": {},
          "output_type": "execute_result"
        }
      ],
      "source": [
        "new_model.nodes()"
      ]
    },
    {
      "cell_type": "code",
      "execution_count": null,
      "id": "D07X2Qd9sPdf",
      "metadata": {
        "colab": {
          "base_uri": "https://localhost:8080/"
        },
        "id": "D07X2Qd9sPdf",
        "outputId": "67e7a679-5b38-4d3d-f691-e8bf1ab1c4a9"
      },
      "outputs": [
        {
          "data": {
            "text/plain": [
              "Index(['gender', 'age', 'hypertension', 'heart_disease', 'ever_married',\n",
              "       'work_type', 'Residence_type', 'avg_glucose_level', 'bmi',\n",
              "       'smoking_status', 'stroke'],\n",
              "      dtype='object')"
            ]
          },
          "execution_count": 40,
          "metadata": {},
          "output_type": "execute_result"
        }
      ],
      "source": [
        "data_train.columns"
      ]
    },
    {
      "cell_type": "code",
      "execution_count": null,
      "id": "VOJLw2OSSR2s",
      "metadata": {
        "colab": {
          "base_uri": "https://localhost:8080/"
        },
        "id": "VOJLw2OSSR2s",
        "outputId": "d39aa21b-6cb9-40d6-b681-299ed1c842a6"
      },
      "outputs": [
        {
          "name": "stdout",
          "output_type": "stream",
          "text": [
            "-26046.58760075108\n",
            "-26742.254943725697\n"
          ]
        }
      ],
      "source": [
        "print(log_likelihood_score(new_model, data_train_new))\n",
        "print(structure_score(new_model, data_train_new, scoring_method=\"bic\"))"
      ]
    },
    {
      "cell_type": "code",
      "execution_count": null,
      "id": "hVOyhq-4yehR",
      "metadata": {
        "id": "hVOyhq-4yehR"
      },
      "outputs": [],
      "source": [
        "data_test_copy = data_test.drop(['Residence_type','gender'], axis=1)\n"
      ]
    },
    {
      "cell_type": "code",
      "execution_count": null,
      "id": "yiexydEazNcz",
      "metadata": {
        "id": "yiexydEazNcz"
      },
      "outputs": [],
      "source": [
        "data_test_copy.drop('stroke', axis=1, inplace=True)"
      ]
    },
    {
      "cell_type": "code",
      "execution_count": null,
      "id": "fcTFqx53y-yU",
      "metadata": {
        "colab": {
          "base_uri": "https://localhost:8080/",
          "height": 206
        },
        "id": "fcTFqx53y-yU",
        "outputId": "fb076e5f-a436-4e7c-8349-0f2d400a6282"
      },
      "outputs": [
        {
          "data": {
            "text/html": [
              "\n",
              "  <div id=\"df-8c92560d-07d5-486d-b29d-53c5b3dad29d\">\n",
              "    <div class=\"colab-df-container\">\n",
              "      <div>\n",
              "<style scoped>\n",
              "    .dataframe tbody tr th:only-of-type {\n",
              "        vertical-align: middle;\n",
              "    }\n",
              "\n",
              "    .dataframe tbody tr th {\n",
              "        vertical-align: top;\n",
              "    }\n",
              "\n",
              "    .dataframe thead th {\n",
              "        text-align: right;\n",
              "    }\n",
              "</style>\n",
              "<table border=\"1\" class=\"dataframe\">\n",
              "  <thead>\n",
              "    <tr style=\"text-align: right;\">\n",
              "      <th></th>\n",
              "      <th>age</th>\n",
              "      <th>hypertension</th>\n",
              "      <th>heart_disease</th>\n",
              "      <th>ever_married</th>\n",
              "      <th>work_type</th>\n",
              "      <th>avg_glucose_level</th>\n",
              "      <th>bmi</th>\n",
              "      <th>smoking_status</th>\n",
              "    </tr>\n",
              "  </thead>\n",
              "  <tbody>\n",
              "    <tr>\n",
              "      <th>0</th>\n",
              "      <td>age</td>\n",
              "      <td>hypertension</td>\n",
              "      <td>heart_disease</td>\n",
              "      <td>ever_married</td>\n",
              "      <td>work_type</td>\n",
              "      <td>avg_glucose_level</td>\n",
              "      <td>bmi</td>\n",
              "      <td>smoking_status</td>\n",
              "    </tr>\n",
              "    <tr>\n",
              "      <th>1</th>\n",
              "      <td>4</td>\n",
              "      <td>0</td>\n",
              "      <td>0</td>\n",
              "      <td>No</td>\n",
              "      <td>Private</td>\n",
              "      <td>0</td>\n",
              "      <td>0</td>\n",
              "      <td>never smoked</td>\n",
              "    </tr>\n",
              "    <tr>\n",
              "      <th>2</th>\n",
              "      <td>3</td>\n",
              "      <td>0</td>\n",
              "      <td>0</td>\n",
              "      <td>Yes</td>\n",
              "      <td>Private</td>\n",
              "      <td>0</td>\n",
              "      <td>1</td>\n",
              "      <td>Unknown</td>\n",
              "    </tr>\n",
              "    <tr>\n",
              "      <th>3</th>\n",
              "      <td>4</td>\n",
              "      <td>0</td>\n",
              "      <td>0</td>\n",
              "      <td>Yes</td>\n",
              "      <td>Self-employed</td>\n",
              "      <td>4</td>\n",
              "      <td>0</td>\n",
              "      <td>never smoked</td>\n",
              "    </tr>\n",
              "    <tr>\n",
              "      <th>4</th>\n",
              "      <td>4</td>\n",
              "      <td>0</td>\n",
              "      <td>1</td>\n",
              "      <td>Yes</td>\n",
              "      <td>Self-employed</td>\n",
              "      <td>3</td>\n",
              "      <td>1</td>\n",
              "      <td>smokes</td>\n",
              "    </tr>\n",
              "  </tbody>\n",
              "</table>\n",
              "</div>\n",
              "      <button class=\"colab-df-convert\" onclick=\"convertToInteractive('df-8c92560d-07d5-486d-b29d-53c5b3dad29d')\"\n",
              "              title=\"Convert this dataframe to an interactive table.\"\n",
              "              style=\"display:none;\">\n",
              "        \n",
              "  <svg xmlns=\"http://www.w3.org/2000/svg\" height=\"24px\"viewBox=\"0 0 24 24\"\n",
              "       width=\"24px\">\n",
              "    <path d=\"M0 0h24v24H0V0z\" fill=\"none\"/>\n",
              "    <path d=\"M18.56 5.44l.94 2.06.94-2.06 2.06-.94-2.06-.94-.94-2.06-.94 2.06-2.06.94zm-11 1L8.5 8.5l.94-2.06 2.06-.94-2.06-.94L8.5 2.5l-.94 2.06-2.06.94zm10 10l.94 2.06.94-2.06 2.06-.94-2.06-.94-.94-2.06-.94 2.06-2.06.94z\"/><path d=\"M17.41 7.96l-1.37-1.37c-.4-.4-.92-.59-1.43-.59-.52 0-1.04.2-1.43.59L10.3 9.45l-7.72 7.72c-.78.78-.78 2.05 0 2.83L4 21.41c.39.39.9.59 1.41.59.51 0 1.02-.2 1.41-.59l7.78-7.78 2.81-2.81c.8-.78.8-2.07 0-2.86zM5.41 20L4 18.59l7.72-7.72 1.47 1.35L5.41 20z\"/>\n",
              "  </svg>\n",
              "      </button>\n",
              "      \n",
              "  <style>\n",
              "    .colab-df-container {\n",
              "      display:flex;\n",
              "      flex-wrap:wrap;\n",
              "      gap: 12px;\n",
              "    }\n",
              "\n",
              "    .colab-df-convert {\n",
              "      background-color: #E8F0FE;\n",
              "      border: none;\n",
              "      border-radius: 50%;\n",
              "      cursor: pointer;\n",
              "      display: none;\n",
              "      fill: #1967D2;\n",
              "      height: 32px;\n",
              "      padding: 0 0 0 0;\n",
              "      width: 32px;\n",
              "    }\n",
              "\n",
              "    .colab-df-convert:hover {\n",
              "      background-color: #E2EBFA;\n",
              "      box-shadow: 0px 1px 2px rgba(60, 64, 67, 0.3), 0px 1px 3px 1px rgba(60, 64, 67, 0.15);\n",
              "      fill: #174EA6;\n",
              "    }\n",
              "\n",
              "    [theme=dark] .colab-df-convert {\n",
              "      background-color: #3B4455;\n",
              "      fill: #D2E3FC;\n",
              "    }\n",
              "\n",
              "    [theme=dark] .colab-df-convert:hover {\n",
              "      background-color: #434B5C;\n",
              "      box-shadow: 0px 1px 3px 1px rgba(0, 0, 0, 0.15);\n",
              "      filter: drop-shadow(0px 1px 2px rgba(0, 0, 0, 0.3));\n",
              "      fill: #FFFFFF;\n",
              "    }\n",
              "  </style>\n",
              "\n",
              "      <script>\n",
              "        const buttonEl =\n",
              "          document.querySelector('#df-8c92560d-07d5-486d-b29d-53c5b3dad29d button.colab-df-convert');\n",
              "        buttonEl.style.display =\n",
              "          google.colab.kernel.accessAllowed ? 'block' : 'none';\n",
              "\n",
              "        async function convertToInteractive(key) {\n",
              "          const element = document.querySelector('#df-8c92560d-07d5-486d-b29d-53c5b3dad29d');\n",
              "          const dataTable =\n",
              "            await google.colab.kernel.invokeFunction('convertToInteractive',\n",
              "                                                     [key], {});\n",
              "          if (!dataTable) return;\n",
              "\n",
              "          const docLinkHtml = 'Like what you see? Visit the ' +\n",
              "            '<a target=\"_blank\" href=https://colab.research.google.com/notebooks/data_table.ipynb>data table notebook</a>'\n",
              "            + ' to learn more about interactive tables.';\n",
              "          element.innerHTML = '';\n",
              "          dataTable['output_type'] = 'display_data';\n",
              "          await google.colab.output.renderOutput(dataTable, element);\n",
              "          const docLink = document.createElement('div');\n",
              "          docLink.innerHTML = docLinkHtml;\n",
              "          element.appendChild(docLink);\n",
              "        }\n",
              "      </script>\n",
              "    </div>\n",
              "  </div>\n",
              "  "
            ],
            "text/plain": [
              "   age  hypertension  heart_disease  ever_married      work_type  \\\n",
              "0  age  hypertension  heart_disease  ever_married      work_type   \n",
              "1    4             0              0            No        Private   \n",
              "2    3             0              0           Yes        Private   \n",
              "3    4             0              0           Yes  Self-employed   \n",
              "4    4             0              1           Yes  Self-employed   \n",
              "\n",
              "   avg_glucose_level  bmi  smoking_status  \n",
              "0  avg_glucose_level  bmi  smoking_status  \n",
              "1                  0    0    never smoked  \n",
              "2                  0    1         Unknown  \n",
              "3                  4    0    never smoked  \n",
              "4                  3    1          smokes  "
            ]
          },
          "execution_count": 29,
          "metadata": {},
          "output_type": "execute_result"
        }
      ],
      "source": [
        "data_test_copy.head()"
      ]
    },
    {
      "cell_type": "code",
      "execution_count": null,
      "id": "XEqEmgs7zKsD",
      "metadata": {
        "colab": {
          "base_uri": "https://localhost:8080/"
        },
        "id": "XEqEmgs7zKsD",
        "outputId": "408dd5a1-da83-4620-88d8-73ea4c835387"
      },
      "outputs": [
        {
          "data": {
            "text/plain": [
              "NodeView(('age', 'work_type', 'ever_married', 'bmi', 'heart_disease', 'stroke', 'avg_glucose_level', 'hypertension', 'smoking_status'))"
            ]
          },
          "execution_count": 100,
          "metadata": {},
          "output_type": "execute_result"
        }
      ],
      "source": [
        "new_model.nodes()"
      ]
    },
    {
      "cell_type": "code",
      "execution_count": null,
      "id": "8001532NHyOK",
      "metadata": {
        "colab": {
          "base_uri": "https://localhost:8080/"
        },
        "id": "8001532NHyOK",
        "outputId": "df913c7d-db5b-4c96-e320-819d39cd16bb"
      },
      "outputs": [
        {
          "data": {
            "text/plain": [
              "Index(['age', 'hypertension', 'heart_disease', 'ever_married', 'work_type',\n",
              "       'avg_glucose_level', 'bmi', 'smoking_status'],\n",
              "      dtype='object')"
            ]
          },
          "execution_count": 102,
          "metadata": {},
          "output_type": "execute_result"
        }
      ],
      "source": [
        "data_test_copy.columns"
      ]
    },
    {
      "cell_type": "code",
      "execution_count": null,
      "id": "fyQ4qXQ5y4Tp",
      "metadata": {
        "colab": {
          "base_uri": "https://localhost:8080/",
          "height": 49,
          "referenced_widgets": [
            "a07a476211164ed2a176bc80326f416a",
            "a30d33e0b5b647ed86bf80c249847953",
            "f7ea96a327964acf8c4909367f4451ba",
            "65b35204aabb46f1aff1255b38ac69a3",
            "0a15a129944042bcb39ac6255f835f6d",
            "eefba1e0fcf844a58b4e907ee23fe5f1",
            "e8904b58966c4c1a97afd4b3023dd22c",
            "02f4788fcb8d419ea3184d1f084cfe47",
            "d1b4838f9e6c4623834e531f54729c3c",
            "b066eb9f450c45d788d4b45cf2654730",
            "0ab5333fa1c84e81a0c054e7437d2e5b"
          ]
        },
        "id": "fyQ4qXQ5y4Tp",
        "outputId": "b7fc3c7d-e3ef-4b8f-a95d-3139a85cb01b"
      },
      "outputs": [
        {
          "data": {
            "application/vnd.jupyter.widget-view+json": {
              "model_id": "a07a476211164ed2a176bc80326f416a",
              "version_major": 2,
              "version_minor": 0
            },
            "text/plain": [
              "  0%|          | 0/410 [00:00<?, ?it/s]"
            ]
          },
          "metadata": {},
          "output_type": "display_data"
        }
      ],
      "source": [
        "Y_pred = new_model.predict(data_test_copy)"
      ]
    },
    {
      "cell_type": "code",
      "execution_count": null,
      "id": "gQ8E7-ZY1ZED",
      "metadata": {
        "id": "gQ8E7-ZY1ZED"
      },
      "outputs": [],
      "source": [
        "Y_prob = new_model.predict_probability(data_test_copy)"
      ]
    },
    {
      "cell_type": "code",
      "execution_count": null,
      "id": "n6HkG_NG1n1j",
      "metadata": {
        "id": "n6HkG_NG1n1j"
      },
      "outputs": [],
      "source": [
        "Y_prob"
      ]
    },
    {
      "cell_type": "code",
      "execution_count": null,
      "id": "syLeP6nezkDA",
      "metadata": {
        "id": "syLeP6nezkDA"
      },
      "outputs": [],
      "source": [
        "data_test = pd.read_csv(r\"/content/drive/MyDrive/AAI docs/stroke-data-discretized-test.csv\", names=title)"
      ]
    },
    {
      "cell_type": "code",
      "execution_count": null,
      "id": "N5DXt0sgzcr6",
      "metadata": {
        "id": "N5DXt0sgzcr6"
      },
      "outputs": [],
      "source": [
        "Y_true=data_test['stroke']"
      ]
    },
    {
      "cell_type": "code",
      "execution_count": null,
      "id": "QJkCdXl9LG0j",
      "metadata": {
        "id": "QJkCdXl9LG0j"
      },
      "outputs": [],
      "source": [
        "Y_prob_np = Y_prob.to_numpy()"
      ]
    },
    {
      "cell_type": "code",
      "execution_count": null,
      "id": "m_Qgap6tIzwP",
      "metadata": {
        "id": "m_Qgap6tIzwP"
      },
      "outputs": [],
      "source": [
        "Y_prob_new = []\n",
        "for i in range(1, len(Y_true)):\n",
        "  true = int(Y_true[i])\n",
        "  print(i,true)\n",
        "  x = Y_prob_np[i][true]\n",
        "  Y_prob_new.append(x)\n"
      ]
    },
    {
      "cell_type": "code",
      "execution_count": null,
      "id": "lDRReip1XnBA",
      "metadata": {
        "id": "lDRReip1XnBA"
      },
      "outputs": [],
      "source": [
        "Y_true_new = Y_true.iloc[1:]"
      ]
    },
    {
      "cell_type": "code",
      "execution_count": null,
      "id": "M4iNbBlZNpUC",
      "metadata": {
        "id": "M4iNbBlZNpUC"
      },
      "outputs": [],
      "source": [
        "P = np.asarray(Y_true_new.shape)+0.00001 # constant to avoid NAN in KL divergence\n",
        "Q = np.asarray(Y_prob)+0.00001"
      ]
    },
    {
      "cell_type": "code",
      "execution_count": null,
      "id": "HBvyQBRdYnBc",
      "metadata": {
        "colab": {
          "base_uri": "https://localhost:8080/"
        },
        "id": "HBvyQBRdYnBc",
        "outputId": "6fd19e5e-a43d-4c54-e2ff-f6d32f272f5a"
      },
      "outputs": [
        {
          "data": {
            "text/plain": [
              "array([960.00001])"
            ]
          },
          "execution_count": 48,
          "metadata": {},
          "output_type": "execute_result"
        }
      ],
      "source": [
        "P"
      ]
    },
    {
      "cell_type": "code",
      "execution_count": null,
      "id": "_ukPM2zVzrqb",
      "metadata": {
        "id": "_ukPM2zVzrqb"
      },
      "outputs": [],
      "source": [
        "from sklearn import metrics\n",
        "acc = metrics.balanced_accuracy_score(Y_true, Y_pred)\n",
        "fpr, tpr, _ = metrics.roc_curve(Y_true_new, Y_prob_new, pos_label=1)\n",
        "auc = metrics.auc(fpr, tpr)\n",
        "brier = metrics.brier_score_loss(Y_true_new, Y_prob_new)\n",
        "kl_div = np.sum(P*np.log(P/Q))"
      ]
    },
    {
      "cell_type": "code",
      "execution_count": null,
      "id": "NnB_XxOjX_nU",
      "metadata": {
        "id": "NnB_XxOjX_nU"
      },
      "outputs": [],
      "source": [
        "print(\"PERFORMANCE:\")\n",
        "print(\"Balanced Accuracy=\"+str(acc))\n",
        "print(\"Area Under Curve=\"+str(auc))\n",
        "print(\"Brier Score=\"+str(brier))\n",
        "print(\"KL Divergence=\"+str(kl_div))\n",
        "#print(\"training Time=\"+str(self.training_time)+\" secs.\")\n",
        "#print(\"Inference Time=\"+str(self.inference_time)+\" secs.\")"
      ]
    }
  ],
  "metadata": {
    "accelerator": "GPU",
    "colab": {
      "provenance": []
    },
    "gpuClass": "standard",
    "kernelspec": {
      "display_name": "Python 3.10.9 64-bit (microsoft store)",
      "language": "python",
      "name": "python3"
    },
    "language_info": {
      "codemirror_mode": {
        "name": "ipython",
        "version": 3
      },
      "file_extension": ".py",
      "mimetype": "text/x-python",
      "name": "python",
      "nbconvert_exporter": "python",
      "pygments_lexer": "ipython3",
      "version": "3.10.9"
    },
    "vscode": {
      "interpreter": {
        "hash": "65f0a5d9b8dd90f19bea668c583c8ac5e33a80454a653f4ad2cedbb28e04ae52"
      }
    },
    "widgets": {
      "application/vnd.jupyter.widget-state+json": {
        "021f78ed519447bcadc918df9e00f45d": {
          "model_module": "@jupyter-widgets/base",
          "model_module_version": "1.2.0",
          "model_name": "LayoutModel",
          "state": {
            "_model_module": "@jupyter-widgets/base",
            "_model_module_version": "1.2.0",
            "_model_name": "LayoutModel",
            "_view_count": null,
            "_view_module": "@jupyter-widgets/base",
            "_view_module_version": "1.2.0",
            "_view_name": "LayoutView",
            "align_content": null,
            "align_items": null,
            "align_self": null,
            "border": null,
            "bottom": null,
            "display": null,
            "flex": null,
            "flex_flow": null,
            "grid_area": null,
            "grid_auto_columns": null,
            "grid_auto_flow": null,
            "grid_auto_rows": null,
            "grid_column": null,
            "grid_gap": null,
            "grid_row": null,
            "grid_template_areas": null,
            "grid_template_columns": null,
            "grid_template_rows": null,
            "height": null,
            "justify_content": null,
            "justify_items": null,
            "left": null,
            "margin": null,
            "max_height": null,
            "max_width": null,
            "min_height": null,
            "min_width": null,
            "object_fit": null,
            "object_position": null,
            "order": null,
            "overflow": null,
            "overflow_x": null,
            "overflow_y": null,
            "padding": null,
            "right": null,
            "top": null,
            "visibility": null,
            "width": null
          }
        },
        "02f4788fcb8d419ea3184d1f084cfe47": {
          "model_module": "@jupyter-widgets/base",
          "model_module_version": "1.2.0",
          "model_name": "LayoutModel",
          "state": {
            "_model_module": "@jupyter-widgets/base",
            "_model_module_version": "1.2.0",
            "_model_name": "LayoutModel",
            "_view_count": null,
            "_view_module": "@jupyter-widgets/base",
            "_view_module_version": "1.2.0",
            "_view_name": "LayoutView",
            "align_content": null,
            "align_items": null,
            "align_self": null,
            "border": null,
            "bottom": null,
            "display": null,
            "flex": null,
            "flex_flow": null,
            "grid_area": null,
            "grid_auto_columns": null,
            "grid_auto_flow": null,
            "grid_auto_rows": null,
            "grid_column": null,
            "grid_gap": null,
            "grid_row": null,
            "grid_template_areas": null,
            "grid_template_columns": null,
            "grid_template_rows": null,
            "height": null,
            "justify_content": null,
            "justify_items": null,
            "left": null,
            "margin": null,
            "max_height": null,
            "max_width": null,
            "min_height": null,
            "min_width": null,
            "object_fit": null,
            "object_position": null,
            "order": null,
            "overflow": null,
            "overflow_x": null,
            "overflow_y": null,
            "padding": null,
            "right": null,
            "top": null,
            "visibility": null,
            "width": null
          }
        },
        "04a0efc8d5c94470b50fa30ae69fee1d": {
          "model_module": "@jupyter-widgets/controls",
          "model_module_version": "1.5.0",
          "model_name": "HBoxModel",
          "state": {
            "_dom_classes": [],
            "_model_module": "@jupyter-widgets/controls",
            "_model_module_version": "1.5.0",
            "_model_name": "HBoxModel",
            "_view_count": null,
            "_view_module": "@jupyter-widgets/controls",
            "_view_module_version": "1.5.0",
            "_view_name": "HBoxView",
            "box_style": "",
            "children": [
              "IPY_MODEL_2ff1511ea628439da8d97063e6952f58",
              "IPY_MODEL_cf96519f66a142bbbf026a4d38f11717",
              "IPY_MODEL_23d1f1a7707d45a9a367a53e81058a06"
            ],
            "layout": "IPY_MODEL_481da280a1b740c1a24db6155d88fe0b"
          }
        },
        "06adee103f81485eb2a3e51394c9c33b": {
          "model_module": "@jupyter-widgets/base",
          "model_module_version": "1.2.0",
          "model_name": "LayoutModel",
          "state": {
            "_model_module": "@jupyter-widgets/base",
            "_model_module_version": "1.2.0",
            "_model_name": "LayoutModel",
            "_view_count": null,
            "_view_module": "@jupyter-widgets/base",
            "_view_module_version": "1.2.0",
            "_view_name": "LayoutView",
            "align_content": null,
            "align_items": null,
            "align_self": null,
            "border": null,
            "bottom": null,
            "display": null,
            "flex": null,
            "flex_flow": null,
            "grid_area": null,
            "grid_auto_columns": null,
            "grid_auto_flow": null,
            "grid_auto_rows": null,
            "grid_column": null,
            "grid_gap": null,
            "grid_row": null,
            "grid_template_areas": null,
            "grid_template_columns": null,
            "grid_template_rows": null,
            "height": null,
            "justify_content": null,
            "justify_items": null,
            "left": null,
            "margin": null,
            "max_height": null,
            "max_width": null,
            "min_height": null,
            "min_width": null,
            "object_fit": null,
            "object_position": null,
            "order": null,
            "overflow": null,
            "overflow_x": null,
            "overflow_y": null,
            "padding": null,
            "right": null,
            "top": null,
            "visibility": null,
            "width": null
          }
        },
        "0a15a129944042bcb39ac6255f835f6d": {
          "model_module": "@jupyter-widgets/base",
          "model_module_version": "1.2.0",
          "model_name": "LayoutModel",
          "state": {
            "_model_module": "@jupyter-widgets/base",
            "_model_module_version": "1.2.0",
            "_model_name": "LayoutModel",
            "_view_count": null,
            "_view_module": "@jupyter-widgets/base",
            "_view_module_version": "1.2.0",
            "_view_name": "LayoutView",
            "align_content": null,
            "align_items": null,
            "align_self": null,
            "border": null,
            "bottom": null,
            "display": null,
            "flex": null,
            "flex_flow": null,
            "grid_area": null,
            "grid_auto_columns": null,
            "grid_auto_flow": null,
            "grid_auto_rows": null,
            "grid_column": null,
            "grid_gap": null,
            "grid_row": null,
            "grid_template_areas": null,
            "grid_template_columns": null,
            "grid_template_rows": null,
            "height": null,
            "justify_content": null,
            "justify_items": null,
            "left": null,
            "margin": null,
            "max_height": null,
            "max_width": null,
            "min_height": null,
            "min_width": null,
            "object_fit": null,
            "object_position": null,
            "order": null,
            "overflow": null,
            "overflow_x": null,
            "overflow_y": null,
            "padding": null,
            "right": null,
            "top": null,
            "visibility": null,
            "width": null
          }
        },
        "0ab5333fa1c84e81a0c054e7437d2e5b": {
          "model_module": "@jupyter-widgets/controls",
          "model_module_version": "1.5.0",
          "model_name": "DescriptionStyleModel",
          "state": {
            "_model_module": "@jupyter-widgets/controls",
            "_model_module_version": "1.5.0",
            "_model_name": "DescriptionStyleModel",
            "_view_count": null,
            "_view_module": "@jupyter-widgets/base",
            "_view_module_version": "1.2.0",
            "_view_name": "StyleView",
            "description_width": ""
          }
        },
        "1aca7764d94b4d88a3e634704dd5483c": {
          "model_module": "@jupyter-widgets/controls",
          "model_module_version": "1.5.0",
          "model_name": "FloatProgressModel",
          "state": {
            "_dom_classes": [],
            "_model_module": "@jupyter-widgets/controls",
            "_model_module_version": "1.5.0",
            "_model_name": "FloatProgressModel",
            "_view_count": null,
            "_view_module": "@jupyter-widgets/controls",
            "_view_module_version": "1.5.0",
            "_view_name": "ProgressView",
            "bar_style": "success",
            "description": "",
            "description_tooltip": null,
            "layout": "IPY_MODEL_4cb92a3a3811474f936e772bb823f300",
            "max": 5,
            "min": 0,
            "orientation": "horizontal",
            "style": "IPY_MODEL_b3e3faaf010246cd97b98d97bf09e4ad",
            "value": 5
          }
        },
        "1ad1c3a91e3e4537996d227eac0989af": {
          "model_module": "@jupyter-widgets/base",
          "model_module_version": "1.2.0",
          "model_name": "LayoutModel",
          "state": {
            "_model_module": "@jupyter-widgets/base",
            "_model_module_version": "1.2.0",
            "_model_name": "LayoutModel",
            "_view_count": null,
            "_view_module": "@jupyter-widgets/base",
            "_view_module_version": "1.2.0",
            "_view_name": "LayoutView",
            "align_content": null,
            "align_items": null,
            "align_self": null,
            "border": null,
            "bottom": null,
            "display": null,
            "flex": null,
            "flex_flow": null,
            "grid_area": null,
            "grid_auto_columns": null,
            "grid_auto_flow": null,
            "grid_auto_rows": null,
            "grid_column": null,
            "grid_gap": null,
            "grid_row": null,
            "grid_template_areas": null,
            "grid_template_columns": null,
            "grid_template_rows": null,
            "height": null,
            "justify_content": null,
            "justify_items": null,
            "left": null,
            "margin": null,
            "max_height": null,
            "max_width": null,
            "min_height": null,
            "min_width": null,
            "object_fit": null,
            "object_position": null,
            "order": null,
            "overflow": null,
            "overflow_x": null,
            "overflow_y": null,
            "padding": null,
            "right": null,
            "top": null,
            "visibility": null,
            "width": null
          }
        },
        "1ffc93c6f13749eda1ae533acb559d71": {
          "model_module": "@jupyter-widgets/base",
          "model_module_version": "1.2.0",
          "model_name": "LayoutModel",
          "state": {
            "_model_module": "@jupyter-widgets/base",
            "_model_module_version": "1.2.0",
            "_model_name": "LayoutModel",
            "_view_count": null,
            "_view_module": "@jupyter-widgets/base",
            "_view_module_version": "1.2.0",
            "_view_name": "LayoutView",
            "align_content": null,
            "align_items": null,
            "align_self": null,
            "border": null,
            "bottom": null,
            "display": null,
            "flex": null,
            "flex_flow": null,
            "grid_area": null,
            "grid_auto_columns": null,
            "grid_auto_flow": null,
            "grid_auto_rows": null,
            "grid_column": null,
            "grid_gap": null,
            "grid_row": null,
            "grid_template_areas": null,
            "grid_template_columns": null,
            "grid_template_rows": null,
            "height": null,
            "justify_content": null,
            "justify_items": null,
            "left": null,
            "margin": null,
            "max_height": null,
            "max_width": null,
            "min_height": null,
            "min_width": null,
            "object_fit": null,
            "object_position": null,
            "order": null,
            "overflow": null,
            "overflow_x": null,
            "overflow_y": null,
            "padding": null,
            "right": null,
            "top": null,
            "visibility": null,
            "width": null
          }
        },
        "23d1f1a7707d45a9a367a53e81058a06": {
          "model_module": "@jupyter-widgets/controls",
          "model_module_version": "1.5.0",
          "model_name": "HTMLModel",
          "state": {
            "_dom_classes": [],
            "_model_module": "@jupyter-widgets/controls",
            "_model_module_version": "1.5.0",
            "_model_name": "HTMLModel",
            "_view_count": null,
            "_view_module": "@jupyter-widgets/controls",
            "_view_module_version": "1.5.0",
            "_view_name": "HTMLView",
            "description": "",
            "description_tooltip": null,
            "layout": "IPY_MODEL_06adee103f81485eb2a3e51394c9c33b",
            "placeholder": "​",
            "style": "IPY_MODEL_2488b356014d4029ae50bb974af0ef7b",
            "value": " 5/5 [02:14&lt;00:00, 24.46s/it]"
          }
        },
        "2488b356014d4029ae50bb974af0ef7b": {
          "model_module": "@jupyter-widgets/controls",
          "model_module_version": "1.5.0",
          "model_name": "DescriptionStyleModel",
          "state": {
            "_model_module": "@jupyter-widgets/controls",
            "_model_module_version": "1.5.0",
            "_model_name": "DescriptionStyleModel",
            "_view_count": null,
            "_view_module": "@jupyter-widgets/base",
            "_view_module_version": "1.2.0",
            "_view_name": "StyleView",
            "description_width": ""
          }
        },
        "2ff1511ea628439da8d97063e6952f58": {
          "model_module": "@jupyter-widgets/controls",
          "model_module_version": "1.5.0",
          "model_name": "HTMLModel",
          "state": {
            "_dom_classes": [],
            "_model_module": "@jupyter-widgets/controls",
            "_model_module_version": "1.5.0",
            "_model_name": "HTMLModel",
            "_view_count": null,
            "_view_module": "@jupyter-widgets/controls",
            "_view_module_version": "1.5.0",
            "_view_name": "HTMLView",
            "description": "",
            "description_tooltip": null,
            "layout": "IPY_MODEL_67d3e46234bb4e70ab4aa72dd178ec72",
            "placeholder": "​",
            "style": "IPY_MODEL_9f3ef797d08645b9a1ece8c19d78333d",
            "value": "Working for n conditional variables: 5: 100%"
          }
        },
        "481da280a1b740c1a24db6155d88fe0b": {
          "model_module": "@jupyter-widgets/base",
          "model_module_version": "1.2.0",
          "model_name": "LayoutModel",
          "state": {
            "_model_module": "@jupyter-widgets/base",
            "_model_module_version": "1.2.0",
            "_model_name": "LayoutModel",
            "_view_count": null,
            "_view_module": "@jupyter-widgets/base",
            "_view_module_version": "1.2.0",
            "_view_name": "LayoutView",
            "align_content": null,
            "align_items": null,
            "align_self": null,
            "border": null,
            "bottom": null,
            "display": null,
            "flex": null,
            "flex_flow": null,
            "grid_area": null,
            "grid_auto_columns": null,
            "grid_auto_flow": null,
            "grid_auto_rows": null,
            "grid_column": null,
            "grid_gap": null,
            "grid_row": null,
            "grid_template_areas": null,
            "grid_template_columns": null,
            "grid_template_rows": null,
            "height": null,
            "justify_content": null,
            "justify_items": null,
            "left": null,
            "margin": null,
            "max_height": null,
            "max_width": null,
            "min_height": null,
            "min_width": null,
            "object_fit": null,
            "object_position": null,
            "order": null,
            "overflow": null,
            "overflow_x": null,
            "overflow_y": null,
            "padding": null,
            "right": null,
            "top": null,
            "visibility": null,
            "width": null
          }
        },
        "4cb92a3a3811474f936e772bb823f300": {
          "model_module": "@jupyter-widgets/base",
          "model_module_version": "1.2.0",
          "model_name": "LayoutModel",
          "state": {
            "_model_module": "@jupyter-widgets/base",
            "_model_module_version": "1.2.0",
            "_model_name": "LayoutModel",
            "_view_count": null,
            "_view_module": "@jupyter-widgets/base",
            "_view_module_version": "1.2.0",
            "_view_name": "LayoutView",
            "align_content": null,
            "align_items": null,
            "align_self": null,
            "border": null,
            "bottom": null,
            "display": null,
            "flex": null,
            "flex_flow": null,
            "grid_area": null,
            "grid_auto_columns": null,
            "grid_auto_flow": null,
            "grid_auto_rows": null,
            "grid_column": null,
            "grid_gap": null,
            "grid_row": null,
            "grid_template_areas": null,
            "grid_template_columns": null,
            "grid_template_rows": null,
            "height": null,
            "justify_content": null,
            "justify_items": null,
            "left": null,
            "margin": null,
            "max_height": null,
            "max_width": null,
            "min_height": null,
            "min_width": null,
            "object_fit": null,
            "object_position": null,
            "order": null,
            "overflow": null,
            "overflow_x": null,
            "overflow_y": null,
            "padding": null,
            "right": null,
            "top": null,
            "visibility": null,
            "width": null
          }
        },
        "4d3c96d6f41d4df3be4c06dfb9343c7d": {
          "model_module": "@jupyter-widgets/controls",
          "model_module_version": "1.5.0",
          "model_name": "HBoxModel",
          "state": {
            "_dom_classes": [],
            "_model_module": "@jupyter-widgets/controls",
            "_model_module_version": "1.5.0",
            "_model_name": "HBoxModel",
            "_view_count": null,
            "_view_module": "@jupyter-widgets/controls",
            "_view_module_version": "1.5.0",
            "_view_name": "HBoxView",
            "box_style": "",
            "children": [
              "IPY_MODEL_700305bc5cf0444396ffe5d4d320480a",
              "IPY_MODEL_7a28a14c753748c9bd82050c477e78c7",
              "IPY_MODEL_dd07b8e353bd435daf89384cb249deaf"
            ],
            "layout": "IPY_MODEL_810f6d5175774ec4868a86ca573d19fc"
          }
        },
        "4d64f5ee91104a9483dbea2d457c552a": {
          "model_module": "@jupyter-widgets/controls",
          "model_module_version": "1.5.0",
          "model_name": "HBoxModel",
          "state": {
            "_dom_classes": [],
            "_model_module": "@jupyter-widgets/controls",
            "_model_module_version": "1.5.0",
            "_model_name": "HBoxModel",
            "_view_count": null,
            "_view_module": "@jupyter-widgets/controls",
            "_view_module_version": "1.5.0",
            "_view_name": "HBoxView",
            "box_style": "",
            "children": [
              "IPY_MODEL_904c1834c72a4264bf4c0b69b5062456",
              "IPY_MODEL_1aca7764d94b4d88a3e634704dd5483c",
              "IPY_MODEL_59929453e23d42d8bd258fb19ef28bff"
            ],
            "layout": "IPY_MODEL_dae7510078694aea843bde25830b0708"
          }
        },
        "54ff6872a351453a85dc97ba59230a30": {
          "model_module": "@jupyter-widgets/controls",
          "model_module_version": "1.5.0",
          "model_name": "DescriptionStyleModel",
          "state": {
            "_model_module": "@jupyter-widgets/controls",
            "_model_module_version": "1.5.0",
            "_model_name": "DescriptionStyleModel",
            "_view_count": null,
            "_view_module": "@jupyter-widgets/base",
            "_view_module_version": "1.2.0",
            "_view_name": "StyleView",
            "description_width": ""
          }
        },
        "59929453e23d42d8bd258fb19ef28bff": {
          "model_module": "@jupyter-widgets/controls",
          "model_module_version": "1.5.0",
          "model_name": "HTMLModel",
          "state": {
            "_dom_classes": [],
            "_model_module": "@jupyter-widgets/controls",
            "_model_module_version": "1.5.0",
            "_model_name": "HTMLModel",
            "_view_count": null,
            "_view_module": "@jupyter-widgets/controls",
            "_view_module_version": "1.5.0",
            "_view_name": "HTMLView",
            "description": "",
            "description_tooltip": null,
            "layout": "IPY_MODEL_a0c800117a4d4e02af60b8b92e19519c",
            "placeholder": "​",
            "style": "IPY_MODEL_f9e452719f5c4f44bff78317368de272",
            "value": " 5/5 [02:00&lt;00:00, 20.83s/it]"
          }
        },
        "5d209e9d8c8a40999c81122838c5ce97": {
          "model_module": "@jupyter-widgets/controls",
          "model_module_version": "1.5.0",
          "model_name": "ProgressStyleModel",
          "state": {
            "_model_module": "@jupyter-widgets/controls",
            "_model_module_version": "1.5.0",
            "_model_name": "ProgressStyleModel",
            "_view_count": null,
            "_view_module": "@jupyter-widgets/base",
            "_view_module_version": "1.2.0",
            "_view_name": "StyleView",
            "bar_color": null,
            "description_width": ""
          }
        },
        "65b35204aabb46f1aff1255b38ac69a3": {
          "model_module": "@jupyter-widgets/controls",
          "model_module_version": "1.5.0",
          "model_name": "HTMLModel",
          "state": {
            "_dom_classes": [],
            "_model_module": "@jupyter-widgets/controls",
            "_model_module_version": "1.5.0",
            "_model_name": "HTMLModel",
            "_view_count": null,
            "_view_module": "@jupyter-widgets/controls",
            "_view_module_version": "1.5.0",
            "_view_name": "HTMLView",
            "description": "",
            "description_tooltip": null,
            "layout": "IPY_MODEL_b066eb9f450c45d788d4b45cf2654730",
            "placeholder": "​",
            "style": "IPY_MODEL_0ab5333fa1c84e81a0c054e7437d2e5b",
            "value": " 410/410 [00:05&lt;00:00, 185.34it/s]"
          }
        },
        "67d3e46234bb4e70ab4aa72dd178ec72": {
          "model_module": "@jupyter-widgets/base",
          "model_module_version": "1.2.0",
          "model_name": "LayoutModel",
          "state": {
            "_model_module": "@jupyter-widgets/base",
            "_model_module_version": "1.2.0",
            "_model_name": "LayoutModel",
            "_view_count": null,
            "_view_module": "@jupyter-widgets/base",
            "_view_module_version": "1.2.0",
            "_view_name": "LayoutView",
            "align_content": null,
            "align_items": null,
            "align_self": null,
            "border": null,
            "bottom": null,
            "display": null,
            "flex": null,
            "flex_flow": null,
            "grid_area": null,
            "grid_auto_columns": null,
            "grid_auto_flow": null,
            "grid_auto_rows": null,
            "grid_column": null,
            "grid_gap": null,
            "grid_row": null,
            "grid_template_areas": null,
            "grid_template_columns": null,
            "grid_template_rows": null,
            "height": null,
            "justify_content": null,
            "justify_items": null,
            "left": null,
            "margin": null,
            "max_height": null,
            "max_width": null,
            "min_height": null,
            "min_width": null,
            "object_fit": null,
            "object_position": null,
            "order": null,
            "overflow": null,
            "overflow_x": null,
            "overflow_y": null,
            "padding": null,
            "right": null,
            "top": null,
            "visibility": null,
            "width": null
          }
        },
        "6b7b47c14a8a4fc19b45ee8b77da62f7": {
          "model_module": "@jupyter-widgets/controls",
          "model_module_version": "1.5.0",
          "model_name": "HTMLModel",
          "state": {
            "_dom_classes": [],
            "_model_module": "@jupyter-widgets/controls",
            "_model_module_version": "1.5.0",
            "_model_name": "HTMLModel",
            "_view_count": null,
            "_view_module": "@jupyter-widgets/controls",
            "_view_module_version": "1.5.0",
            "_view_name": "HTMLView",
            "description": "",
            "description_tooltip": null,
            "layout": "IPY_MODEL_e8644dce01c24edda6d003c879a87612",
            "placeholder": "​",
            "style": "IPY_MODEL_fc4a973dd99a404ebb4ad496261e890d",
            "value": "  0%"
          }
        },
        "700305bc5cf0444396ffe5d4d320480a": {
          "model_module": "@jupyter-widgets/controls",
          "model_module_version": "1.5.0",
          "model_name": "HTMLModel",
          "state": {
            "_dom_classes": [],
            "_model_module": "@jupyter-widgets/controls",
            "_model_module_version": "1.5.0",
            "_model_name": "HTMLModel",
            "_view_count": null,
            "_view_module": "@jupyter-widgets/controls",
            "_view_module_version": "1.5.0",
            "_view_name": "HTMLView",
            "description": "",
            "description_tooltip": null,
            "layout": "IPY_MODEL_d78d4b9d745a4bab844e8c613b575703",
            "placeholder": "​",
            "style": "IPY_MODEL_54ff6872a351453a85dc97ba59230a30",
            "value": "  0%"
          }
        },
        "7a28a14c753748c9bd82050c477e78c7": {
          "model_module": "@jupyter-widgets/controls",
          "model_module_version": "1.5.0",
          "model_name": "FloatProgressModel",
          "state": {
            "_dom_classes": [],
            "_model_module": "@jupyter-widgets/controls",
            "_model_module_version": "1.5.0",
            "_model_name": "FloatProgressModel",
            "_view_count": null,
            "_view_module": "@jupyter-widgets/controls",
            "_view_module_version": "1.5.0",
            "_view_name": "ProgressView",
            "bar_style": "danger",
            "description": "",
            "description_tooltip": null,
            "layout": "IPY_MODEL_021f78ed519447bcadc918df9e00f45d",
            "max": 1000000,
            "min": 0,
            "orientation": "horizontal",
            "style": "IPY_MODEL_5d209e9d8c8a40999c81122838c5ce97",
            "value": 8
          }
        },
        "7e853e23932349ad9aa56ba1572710d8": {
          "model_module": "@jupyter-widgets/controls",
          "model_module_version": "1.5.0",
          "model_name": "HBoxModel",
          "state": {
            "_dom_classes": [],
            "_model_module": "@jupyter-widgets/controls",
            "_model_module_version": "1.5.0",
            "_model_name": "HBoxModel",
            "_view_count": null,
            "_view_module": "@jupyter-widgets/controls",
            "_view_module_version": "1.5.0",
            "_view_name": "HBoxView",
            "box_style": "",
            "children": [
              "IPY_MODEL_6b7b47c14a8a4fc19b45ee8b77da62f7",
              "IPY_MODEL_8ad0247e1ed74017a473c37a1c0e5146",
              "IPY_MODEL_c6f2e4ca5a3645a386b785a52ff74d47"
            ],
            "layout": "IPY_MODEL_1ad1c3a91e3e4537996d227eac0989af"
          }
        },
        "810f6d5175774ec4868a86ca573d19fc": {
          "model_module": "@jupyter-widgets/base",
          "model_module_version": "1.2.0",
          "model_name": "LayoutModel",
          "state": {
            "_model_module": "@jupyter-widgets/base",
            "_model_module_version": "1.2.0",
            "_model_name": "LayoutModel",
            "_view_count": null,
            "_view_module": "@jupyter-widgets/base",
            "_view_module_version": "1.2.0",
            "_view_name": "LayoutView",
            "align_content": null,
            "align_items": null,
            "align_self": null,
            "border": null,
            "bottom": null,
            "display": null,
            "flex": null,
            "flex_flow": null,
            "grid_area": null,
            "grid_auto_columns": null,
            "grid_auto_flow": null,
            "grid_auto_rows": null,
            "grid_column": null,
            "grid_gap": null,
            "grid_row": null,
            "grid_template_areas": null,
            "grid_template_columns": null,
            "grid_template_rows": null,
            "height": null,
            "justify_content": null,
            "justify_items": null,
            "left": null,
            "margin": null,
            "max_height": null,
            "max_width": null,
            "min_height": null,
            "min_width": null,
            "object_fit": null,
            "object_position": null,
            "order": null,
            "overflow": null,
            "overflow_x": null,
            "overflow_y": null,
            "padding": null,
            "right": null,
            "top": null,
            "visibility": null,
            "width": null
          }
        },
        "81e562bc34ca488f9031ab7ab35b7502": {
          "model_module": "@jupyter-widgets/controls",
          "model_module_version": "1.5.0",
          "model_name": "DescriptionStyleModel",
          "state": {
            "_model_module": "@jupyter-widgets/controls",
            "_model_module_version": "1.5.0",
            "_model_name": "DescriptionStyleModel",
            "_view_count": null,
            "_view_module": "@jupyter-widgets/base",
            "_view_module_version": "1.2.0",
            "_view_name": "StyleView",
            "description_width": ""
          }
        },
        "8a69778c1779440881b37f42e7424287": {
          "model_module": "@jupyter-widgets/base",
          "model_module_version": "1.2.0",
          "model_name": "LayoutModel",
          "state": {
            "_model_module": "@jupyter-widgets/base",
            "_model_module_version": "1.2.0",
            "_model_name": "LayoutModel",
            "_view_count": null,
            "_view_module": "@jupyter-widgets/base",
            "_view_module_version": "1.2.0",
            "_view_name": "LayoutView",
            "align_content": null,
            "align_items": null,
            "align_self": null,
            "border": null,
            "bottom": null,
            "display": null,
            "flex": null,
            "flex_flow": null,
            "grid_area": null,
            "grid_auto_columns": null,
            "grid_auto_flow": null,
            "grid_auto_rows": null,
            "grid_column": null,
            "grid_gap": null,
            "grid_row": null,
            "grid_template_areas": null,
            "grid_template_columns": null,
            "grid_template_rows": null,
            "height": null,
            "justify_content": null,
            "justify_items": null,
            "left": null,
            "margin": null,
            "max_height": null,
            "max_width": null,
            "min_height": null,
            "min_width": null,
            "object_fit": null,
            "object_position": null,
            "order": null,
            "overflow": null,
            "overflow_x": null,
            "overflow_y": null,
            "padding": null,
            "right": null,
            "top": null,
            "visibility": null,
            "width": null
          }
        },
        "8ad0247e1ed74017a473c37a1c0e5146": {
          "model_module": "@jupyter-widgets/controls",
          "model_module_version": "1.5.0",
          "model_name": "FloatProgressModel",
          "state": {
            "_dom_classes": [],
            "_model_module": "@jupyter-widgets/controls",
            "_model_module_version": "1.5.0",
            "_model_name": "FloatProgressModel",
            "_view_count": null,
            "_view_module": "@jupyter-widgets/controls",
            "_view_module_version": "1.5.0",
            "_view_name": "ProgressView",
            "bar_style": "danger",
            "description": "",
            "description_tooltip": null,
            "layout": "IPY_MODEL_1ffc93c6f13749eda1ae533acb559d71",
            "max": 1000000,
            "min": 0,
            "orientation": "horizontal",
            "style": "IPY_MODEL_8d67acc8b37d49c28a2380b87856b1f3",
            "value": 10
          }
        },
        "8ce2d0c74cfa4f108f7596a0774febaa": {
          "model_module": "@jupyter-widgets/controls",
          "model_module_version": "1.5.0",
          "model_name": "DescriptionStyleModel",
          "state": {
            "_model_module": "@jupyter-widgets/controls",
            "_model_module_version": "1.5.0",
            "_model_name": "DescriptionStyleModel",
            "_view_count": null,
            "_view_module": "@jupyter-widgets/base",
            "_view_module_version": "1.2.0",
            "_view_name": "StyleView",
            "description_width": ""
          }
        },
        "8d67acc8b37d49c28a2380b87856b1f3": {
          "model_module": "@jupyter-widgets/controls",
          "model_module_version": "1.5.0",
          "model_name": "ProgressStyleModel",
          "state": {
            "_model_module": "@jupyter-widgets/controls",
            "_model_module_version": "1.5.0",
            "_model_name": "ProgressStyleModel",
            "_view_count": null,
            "_view_module": "@jupyter-widgets/base",
            "_view_module_version": "1.2.0",
            "_view_name": "StyleView",
            "bar_color": null,
            "description_width": ""
          }
        },
        "8e0fe06b13e64ebca047b1fcb7b8e95e": {
          "model_module": "@jupyter-widgets/base",
          "model_module_version": "1.2.0",
          "model_name": "LayoutModel",
          "state": {
            "_model_module": "@jupyter-widgets/base",
            "_model_module_version": "1.2.0",
            "_model_name": "LayoutModel",
            "_view_count": null,
            "_view_module": "@jupyter-widgets/base",
            "_view_module_version": "1.2.0",
            "_view_name": "LayoutView",
            "align_content": null,
            "align_items": null,
            "align_self": null,
            "border": null,
            "bottom": null,
            "display": null,
            "flex": null,
            "flex_flow": null,
            "grid_area": null,
            "grid_auto_columns": null,
            "grid_auto_flow": null,
            "grid_auto_rows": null,
            "grid_column": null,
            "grid_gap": null,
            "grid_row": null,
            "grid_template_areas": null,
            "grid_template_columns": null,
            "grid_template_rows": null,
            "height": null,
            "justify_content": null,
            "justify_items": null,
            "left": null,
            "margin": null,
            "max_height": null,
            "max_width": null,
            "min_height": null,
            "min_width": null,
            "object_fit": null,
            "object_position": null,
            "order": null,
            "overflow": null,
            "overflow_x": null,
            "overflow_y": null,
            "padding": null,
            "right": null,
            "top": null,
            "visibility": null,
            "width": null
          }
        },
        "904c1834c72a4264bf4c0b69b5062456": {
          "model_module": "@jupyter-widgets/controls",
          "model_module_version": "1.5.0",
          "model_name": "HTMLModel",
          "state": {
            "_dom_classes": [],
            "_model_module": "@jupyter-widgets/controls",
            "_model_module_version": "1.5.0",
            "_model_name": "HTMLModel",
            "_view_count": null,
            "_view_module": "@jupyter-widgets/controls",
            "_view_module_version": "1.5.0",
            "_view_name": "HTMLView",
            "description": "",
            "description_tooltip": null,
            "layout": "IPY_MODEL_8e0fe06b13e64ebca047b1fcb7b8e95e",
            "placeholder": "​",
            "style": "IPY_MODEL_8ce2d0c74cfa4f108f7596a0774febaa",
            "value": "Working for n conditional variables: 5: 100%"
          }
        },
        "9b1af5380fb043fab9ebefc8e9a0dd09": {
          "model_module": "@jupyter-widgets/controls",
          "model_module_version": "1.5.0",
          "model_name": "ProgressStyleModel",
          "state": {
            "_model_module": "@jupyter-widgets/controls",
            "_model_module_version": "1.5.0",
            "_model_name": "ProgressStyleModel",
            "_view_count": null,
            "_view_module": "@jupyter-widgets/base",
            "_view_module_version": "1.2.0",
            "_view_name": "StyleView",
            "bar_color": null,
            "description_width": ""
          }
        },
        "9f3ef797d08645b9a1ece8c19d78333d": {
          "model_module": "@jupyter-widgets/controls",
          "model_module_version": "1.5.0",
          "model_name": "DescriptionStyleModel",
          "state": {
            "_model_module": "@jupyter-widgets/controls",
            "_model_module_version": "1.5.0",
            "_model_name": "DescriptionStyleModel",
            "_view_count": null,
            "_view_module": "@jupyter-widgets/base",
            "_view_module_version": "1.2.0",
            "_view_name": "StyleView",
            "description_width": ""
          }
        },
        "a07a476211164ed2a176bc80326f416a": {
          "model_module": "@jupyter-widgets/controls",
          "model_module_version": "1.5.0",
          "model_name": "HBoxModel",
          "state": {
            "_dom_classes": [],
            "_model_module": "@jupyter-widgets/controls",
            "_model_module_version": "1.5.0",
            "_model_name": "HBoxModel",
            "_view_count": null,
            "_view_module": "@jupyter-widgets/controls",
            "_view_module_version": "1.5.0",
            "_view_name": "HBoxView",
            "box_style": "",
            "children": [
              "IPY_MODEL_a30d33e0b5b647ed86bf80c249847953",
              "IPY_MODEL_f7ea96a327964acf8c4909367f4451ba",
              "IPY_MODEL_65b35204aabb46f1aff1255b38ac69a3"
            ],
            "layout": "IPY_MODEL_0a15a129944042bcb39ac6255f835f6d"
          }
        },
        "a0c800117a4d4e02af60b8b92e19519c": {
          "model_module": "@jupyter-widgets/base",
          "model_module_version": "1.2.0",
          "model_name": "LayoutModel",
          "state": {
            "_model_module": "@jupyter-widgets/base",
            "_model_module_version": "1.2.0",
            "_model_name": "LayoutModel",
            "_view_count": null,
            "_view_module": "@jupyter-widgets/base",
            "_view_module_version": "1.2.0",
            "_view_name": "LayoutView",
            "align_content": null,
            "align_items": null,
            "align_self": null,
            "border": null,
            "bottom": null,
            "display": null,
            "flex": null,
            "flex_flow": null,
            "grid_area": null,
            "grid_auto_columns": null,
            "grid_auto_flow": null,
            "grid_auto_rows": null,
            "grid_column": null,
            "grid_gap": null,
            "grid_row": null,
            "grid_template_areas": null,
            "grid_template_columns": null,
            "grid_template_rows": null,
            "height": null,
            "justify_content": null,
            "justify_items": null,
            "left": null,
            "margin": null,
            "max_height": null,
            "max_width": null,
            "min_height": null,
            "min_width": null,
            "object_fit": null,
            "object_position": null,
            "order": null,
            "overflow": null,
            "overflow_x": null,
            "overflow_y": null,
            "padding": null,
            "right": null,
            "top": null,
            "visibility": null,
            "width": null
          }
        },
        "a0de89f86fd4400392f6e86496012d7d": {
          "model_module": "@jupyter-widgets/base",
          "model_module_version": "1.2.0",
          "model_name": "LayoutModel",
          "state": {
            "_model_module": "@jupyter-widgets/base",
            "_model_module_version": "1.2.0",
            "_model_name": "LayoutModel",
            "_view_count": null,
            "_view_module": "@jupyter-widgets/base",
            "_view_module_version": "1.2.0",
            "_view_name": "LayoutView",
            "align_content": null,
            "align_items": null,
            "align_self": null,
            "border": null,
            "bottom": null,
            "display": null,
            "flex": null,
            "flex_flow": null,
            "grid_area": null,
            "grid_auto_columns": null,
            "grid_auto_flow": null,
            "grid_auto_rows": null,
            "grid_column": null,
            "grid_gap": null,
            "grid_row": null,
            "grid_template_areas": null,
            "grid_template_columns": null,
            "grid_template_rows": null,
            "height": null,
            "justify_content": null,
            "justify_items": null,
            "left": null,
            "margin": null,
            "max_height": null,
            "max_width": null,
            "min_height": null,
            "min_width": null,
            "object_fit": null,
            "object_position": null,
            "order": null,
            "overflow": null,
            "overflow_x": null,
            "overflow_y": null,
            "padding": null,
            "right": null,
            "top": null,
            "visibility": null,
            "width": null
          }
        },
        "a30d33e0b5b647ed86bf80c249847953": {
          "model_module": "@jupyter-widgets/controls",
          "model_module_version": "1.5.0",
          "model_name": "HTMLModel",
          "state": {
            "_dom_classes": [],
            "_model_module": "@jupyter-widgets/controls",
            "_model_module_version": "1.5.0",
            "_model_name": "HTMLModel",
            "_view_count": null,
            "_view_module": "@jupyter-widgets/controls",
            "_view_module_version": "1.5.0",
            "_view_name": "HTMLView",
            "description": "",
            "description_tooltip": null,
            "layout": "IPY_MODEL_eefba1e0fcf844a58b4e907ee23fe5f1",
            "placeholder": "​",
            "style": "IPY_MODEL_e8904b58966c4c1a97afd4b3023dd22c",
            "value": "100%"
          }
        },
        "b066eb9f450c45d788d4b45cf2654730": {
          "model_module": "@jupyter-widgets/base",
          "model_module_version": "1.2.0",
          "model_name": "LayoutModel",
          "state": {
            "_model_module": "@jupyter-widgets/base",
            "_model_module_version": "1.2.0",
            "_model_name": "LayoutModel",
            "_view_count": null,
            "_view_module": "@jupyter-widgets/base",
            "_view_module_version": "1.2.0",
            "_view_name": "LayoutView",
            "align_content": null,
            "align_items": null,
            "align_self": null,
            "border": null,
            "bottom": null,
            "display": null,
            "flex": null,
            "flex_flow": null,
            "grid_area": null,
            "grid_auto_columns": null,
            "grid_auto_flow": null,
            "grid_auto_rows": null,
            "grid_column": null,
            "grid_gap": null,
            "grid_row": null,
            "grid_template_areas": null,
            "grid_template_columns": null,
            "grid_template_rows": null,
            "height": null,
            "justify_content": null,
            "justify_items": null,
            "left": null,
            "margin": null,
            "max_height": null,
            "max_width": null,
            "min_height": null,
            "min_width": null,
            "object_fit": null,
            "object_position": null,
            "order": null,
            "overflow": null,
            "overflow_x": null,
            "overflow_y": null,
            "padding": null,
            "right": null,
            "top": null,
            "visibility": null,
            "width": null
          }
        },
        "b3e3faaf010246cd97b98d97bf09e4ad": {
          "model_module": "@jupyter-widgets/controls",
          "model_module_version": "1.5.0",
          "model_name": "ProgressStyleModel",
          "state": {
            "_model_module": "@jupyter-widgets/controls",
            "_model_module_version": "1.5.0",
            "_model_name": "ProgressStyleModel",
            "_view_count": null,
            "_view_module": "@jupyter-widgets/base",
            "_view_module_version": "1.2.0",
            "_view_name": "StyleView",
            "bar_color": null,
            "description_width": ""
          }
        },
        "ba70c171f54c44f4a994f8aced76235d": {
          "model_module": "@jupyter-widgets/base",
          "model_module_version": "1.2.0",
          "model_name": "LayoutModel",
          "state": {
            "_model_module": "@jupyter-widgets/base",
            "_model_module_version": "1.2.0",
            "_model_name": "LayoutModel",
            "_view_count": null,
            "_view_module": "@jupyter-widgets/base",
            "_view_module_version": "1.2.0",
            "_view_name": "LayoutView",
            "align_content": null,
            "align_items": null,
            "align_self": null,
            "border": null,
            "bottom": null,
            "display": null,
            "flex": null,
            "flex_flow": null,
            "grid_area": null,
            "grid_auto_columns": null,
            "grid_auto_flow": null,
            "grid_auto_rows": null,
            "grid_column": null,
            "grid_gap": null,
            "grid_row": null,
            "grid_template_areas": null,
            "grid_template_columns": null,
            "grid_template_rows": null,
            "height": null,
            "justify_content": null,
            "justify_items": null,
            "left": null,
            "margin": null,
            "max_height": null,
            "max_width": null,
            "min_height": null,
            "min_width": null,
            "object_fit": null,
            "object_position": null,
            "order": null,
            "overflow": null,
            "overflow_x": null,
            "overflow_y": null,
            "padding": null,
            "right": null,
            "top": null,
            "visibility": null,
            "width": null
          }
        },
        "be6b5ace54ca46f8963ccf4bbf0ac05b": {
          "model_module": "@jupyter-widgets/controls",
          "model_module_version": "1.5.0",
          "model_name": "DescriptionStyleModel",
          "state": {
            "_model_module": "@jupyter-widgets/controls",
            "_model_module_version": "1.5.0",
            "_model_name": "DescriptionStyleModel",
            "_view_count": null,
            "_view_module": "@jupyter-widgets/base",
            "_view_module_version": "1.2.0",
            "_view_name": "StyleView",
            "description_width": ""
          }
        },
        "c6f2e4ca5a3645a386b785a52ff74d47": {
          "model_module": "@jupyter-widgets/controls",
          "model_module_version": "1.5.0",
          "model_name": "HTMLModel",
          "state": {
            "_dom_classes": [],
            "_model_module": "@jupyter-widgets/controls",
            "_model_module_version": "1.5.0",
            "_model_name": "HTMLModel",
            "_view_count": null,
            "_view_module": "@jupyter-widgets/controls",
            "_view_module_version": "1.5.0",
            "_view_name": "HTMLView",
            "description": "",
            "description_tooltip": null,
            "layout": "IPY_MODEL_a0de89f86fd4400392f6e86496012d7d",
            "placeholder": "​",
            "style": "IPY_MODEL_81e562bc34ca488f9031ab7ab35b7502",
            "value": " 10/1000000 [00:00&lt;61:48:27,  4.49it/s]"
          }
        },
        "cf96519f66a142bbbf026a4d38f11717": {
          "model_module": "@jupyter-widgets/controls",
          "model_module_version": "1.5.0",
          "model_name": "FloatProgressModel",
          "state": {
            "_dom_classes": [],
            "_model_module": "@jupyter-widgets/controls",
            "_model_module_version": "1.5.0",
            "_model_name": "FloatProgressModel",
            "_view_count": null,
            "_view_module": "@jupyter-widgets/controls",
            "_view_module_version": "1.5.0",
            "_view_name": "ProgressView",
            "bar_style": "success",
            "description": "",
            "description_tooltip": null,
            "layout": "IPY_MODEL_8a69778c1779440881b37f42e7424287",
            "max": 5,
            "min": 0,
            "orientation": "horizontal",
            "style": "IPY_MODEL_9b1af5380fb043fab9ebefc8e9a0dd09",
            "value": 5
          }
        },
        "d1b4838f9e6c4623834e531f54729c3c": {
          "model_module": "@jupyter-widgets/controls",
          "model_module_version": "1.5.0",
          "model_name": "ProgressStyleModel",
          "state": {
            "_model_module": "@jupyter-widgets/controls",
            "_model_module_version": "1.5.0",
            "_model_name": "ProgressStyleModel",
            "_view_count": null,
            "_view_module": "@jupyter-widgets/base",
            "_view_module_version": "1.2.0",
            "_view_name": "StyleView",
            "bar_color": null,
            "description_width": ""
          }
        },
        "d78d4b9d745a4bab844e8c613b575703": {
          "model_module": "@jupyter-widgets/base",
          "model_module_version": "1.2.0",
          "model_name": "LayoutModel",
          "state": {
            "_model_module": "@jupyter-widgets/base",
            "_model_module_version": "1.2.0",
            "_model_name": "LayoutModel",
            "_view_count": null,
            "_view_module": "@jupyter-widgets/base",
            "_view_module_version": "1.2.0",
            "_view_name": "LayoutView",
            "align_content": null,
            "align_items": null,
            "align_self": null,
            "border": null,
            "bottom": null,
            "display": null,
            "flex": null,
            "flex_flow": null,
            "grid_area": null,
            "grid_auto_columns": null,
            "grid_auto_flow": null,
            "grid_auto_rows": null,
            "grid_column": null,
            "grid_gap": null,
            "grid_row": null,
            "grid_template_areas": null,
            "grid_template_columns": null,
            "grid_template_rows": null,
            "height": null,
            "justify_content": null,
            "justify_items": null,
            "left": null,
            "margin": null,
            "max_height": null,
            "max_width": null,
            "min_height": null,
            "min_width": null,
            "object_fit": null,
            "object_position": null,
            "order": null,
            "overflow": null,
            "overflow_x": null,
            "overflow_y": null,
            "padding": null,
            "right": null,
            "top": null,
            "visibility": null,
            "width": null
          }
        },
        "dae7510078694aea843bde25830b0708": {
          "model_module": "@jupyter-widgets/base",
          "model_module_version": "1.2.0",
          "model_name": "LayoutModel",
          "state": {
            "_model_module": "@jupyter-widgets/base",
            "_model_module_version": "1.2.0",
            "_model_name": "LayoutModel",
            "_view_count": null,
            "_view_module": "@jupyter-widgets/base",
            "_view_module_version": "1.2.0",
            "_view_name": "LayoutView",
            "align_content": null,
            "align_items": null,
            "align_self": null,
            "border": null,
            "bottom": null,
            "display": null,
            "flex": null,
            "flex_flow": null,
            "grid_area": null,
            "grid_auto_columns": null,
            "grid_auto_flow": null,
            "grid_auto_rows": null,
            "grid_column": null,
            "grid_gap": null,
            "grid_row": null,
            "grid_template_areas": null,
            "grid_template_columns": null,
            "grid_template_rows": null,
            "height": null,
            "justify_content": null,
            "justify_items": null,
            "left": null,
            "margin": null,
            "max_height": null,
            "max_width": null,
            "min_height": null,
            "min_width": null,
            "object_fit": null,
            "object_position": null,
            "order": null,
            "overflow": null,
            "overflow_x": null,
            "overflow_y": null,
            "padding": null,
            "right": null,
            "top": null,
            "visibility": null,
            "width": null
          }
        },
        "dd07b8e353bd435daf89384cb249deaf": {
          "model_module": "@jupyter-widgets/controls",
          "model_module_version": "1.5.0",
          "model_name": "HTMLModel",
          "state": {
            "_dom_classes": [],
            "_model_module": "@jupyter-widgets/controls",
            "_model_module_version": "1.5.0",
            "_model_name": "HTMLModel",
            "_view_count": null,
            "_view_module": "@jupyter-widgets/controls",
            "_view_module_version": "1.5.0",
            "_view_name": "HTMLView",
            "description": "",
            "description_tooltip": null,
            "layout": "IPY_MODEL_ba70c171f54c44f4a994f8aced76235d",
            "placeholder": "​",
            "style": "IPY_MODEL_be6b5ace54ca46f8963ccf4bbf0ac05b",
            "value": " 8/1000000 [00:02&lt;40:36:11,  6.84it/s]"
          }
        },
        "e8644dce01c24edda6d003c879a87612": {
          "model_module": "@jupyter-widgets/base",
          "model_module_version": "1.2.0",
          "model_name": "LayoutModel",
          "state": {
            "_model_module": "@jupyter-widgets/base",
            "_model_module_version": "1.2.0",
            "_model_name": "LayoutModel",
            "_view_count": null,
            "_view_module": "@jupyter-widgets/base",
            "_view_module_version": "1.2.0",
            "_view_name": "LayoutView",
            "align_content": null,
            "align_items": null,
            "align_self": null,
            "border": null,
            "bottom": null,
            "display": null,
            "flex": null,
            "flex_flow": null,
            "grid_area": null,
            "grid_auto_columns": null,
            "grid_auto_flow": null,
            "grid_auto_rows": null,
            "grid_column": null,
            "grid_gap": null,
            "grid_row": null,
            "grid_template_areas": null,
            "grid_template_columns": null,
            "grid_template_rows": null,
            "height": null,
            "justify_content": null,
            "justify_items": null,
            "left": null,
            "margin": null,
            "max_height": null,
            "max_width": null,
            "min_height": null,
            "min_width": null,
            "object_fit": null,
            "object_position": null,
            "order": null,
            "overflow": null,
            "overflow_x": null,
            "overflow_y": null,
            "padding": null,
            "right": null,
            "top": null,
            "visibility": null,
            "width": null
          }
        },
        "e8904b58966c4c1a97afd4b3023dd22c": {
          "model_module": "@jupyter-widgets/controls",
          "model_module_version": "1.5.0",
          "model_name": "DescriptionStyleModel",
          "state": {
            "_model_module": "@jupyter-widgets/controls",
            "_model_module_version": "1.5.0",
            "_model_name": "DescriptionStyleModel",
            "_view_count": null,
            "_view_module": "@jupyter-widgets/base",
            "_view_module_version": "1.2.0",
            "_view_name": "StyleView",
            "description_width": ""
          }
        },
        "eefba1e0fcf844a58b4e907ee23fe5f1": {
          "model_module": "@jupyter-widgets/base",
          "model_module_version": "1.2.0",
          "model_name": "LayoutModel",
          "state": {
            "_model_module": "@jupyter-widgets/base",
            "_model_module_version": "1.2.0",
            "_model_name": "LayoutModel",
            "_view_count": null,
            "_view_module": "@jupyter-widgets/base",
            "_view_module_version": "1.2.0",
            "_view_name": "LayoutView",
            "align_content": null,
            "align_items": null,
            "align_self": null,
            "border": null,
            "bottom": null,
            "display": null,
            "flex": null,
            "flex_flow": null,
            "grid_area": null,
            "grid_auto_columns": null,
            "grid_auto_flow": null,
            "grid_auto_rows": null,
            "grid_column": null,
            "grid_gap": null,
            "grid_row": null,
            "grid_template_areas": null,
            "grid_template_columns": null,
            "grid_template_rows": null,
            "height": null,
            "justify_content": null,
            "justify_items": null,
            "left": null,
            "margin": null,
            "max_height": null,
            "max_width": null,
            "min_height": null,
            "min_width": null,
            "object_fit": null,
            "object_position": null,
            "order": null,
            "overflow": null,
            "overflow_x": null,
            "overflow_y": null,
            "padding": null,
            "right": null,
            "top": null,
            "visibility": null,
            "width": null
          }
        },
        "f7ea96a327964acf8c4909367f4451ba": {
          "model_module": "@jupyter-widgets/controls",
          "model_module_version": "1.5.0",
          "model_name": "FloatProgressModel",
          "state": {
            "_dom_classes": [],
            "_model_module": "@jupyter-widgets/controls",
            "_model_module_version": "1.5.0",
            "_model_name": "FloatProgressModel",
            "_view_count": null,
            "_view_module": "@jupyter-widgets/controls",
            "_view_module_version": "1.5.0",
            "_view_name": "ProgressView",
            "bar_style": "success",
            "description": "",
            "description_tooltip": null,
            "layout": "IPY_MODEL_02f4788fcb8d419ea3184d1f084cfe47",
            "max": 410,
            "min": 0,
            "orientation": "horizontal",
            "style": "IPY_MODEL_d1b4838f9e6c4623834e531f54729c3c",
            "value": 410
          }
        },
        "f9e452719f5c4f44bff78317368de272": {
          "model_module": "@jupyter-widgets/controls",
          "model_module_version": "1.5.0",
          "model_name": "DescriptionStyleModel",
          "state": {
            "_model_module": "@jupyter-widgets/controls",
            "_model_module_version": "1.5.0",
            "_model_name": "DescriptionStyleModel",
            "_view_count": null,
            "_view_module": "@jupyter-widgets/base",
            "_view_module_version": "1.2.0",
            "_view_name": "StyleView",
            "description_width": ""
          }
        },
        "fc4a973dd99a404ebb4ad496261e890d": {
          "model_module": "@jupyter-widgets/controls",
          "model_module_version": "1.5.0",
          "model_name": "DescriptionStyleModel",
          "state": {
            "_model_module": "@jupyter-widgets/controls",
            "_model_module_version": "1.5.0",
            "_model_name": "DescriptionStyleModel",
            "_view_count": null,
            "_view_module": "@jupyter-widgets/base",
            "_view_module_version": "1.2.0",
            "_view_name": "StyleView",
            "description_width": ""
          }
        }
      }
    }
  },
  "nbformat": 4,
  "nbformat_minor": 5
}
